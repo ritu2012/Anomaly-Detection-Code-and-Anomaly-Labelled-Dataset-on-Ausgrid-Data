{
 "cells": [
  {
   "cell_type": "code",
   "execution_count": 1,
   "id": "5e51b17b",
   "metadata": {},
   "outputs": [],
   "source": [
    "import pandas as pd\n",
    "from pandas import read_csv\n",
    "import numpy as np\n",
    "import matplotlib.pyplot as plt\n",
    "import seaborn as sns\n",
    "from calendar import day_abbr, month_abbr\n",
    "import time\n",
    "import itertools\n",
    "from sklearn.preprocessing import OrdinalEncoder\n",
    "from sklearn.preprocessing import LabelEncoder\n",
    "\n",
    "from sklearn.model_selection import train_test_split\n",
    "from imblearn.combine import SMOTEENN\n",
    "\n",
    "from sklearn.preprocessing import StandardScaler\n",
    "from sklearn.pipeline import Pipeline\n",
    "from sklearn.model_selection import cross_val_score\n",
    "from sklearn.model_selection import RepeatedStratifiedKFold\n",
    "from sklearn.model_selection import GridSearchCV\n",
    "\n",
    "from hyperopt import tpe\n",
    "from hyperopt import STATUS_OK\n",
    "from hyperopt import Trials\n",
    "from hyperopt import hp\n",
    "from hyperopt import fmin\n",
    "\n",
    "from sklearn.utils.class_weight import compute_class_weight\n",
    "from sklearn.linear_model import LogisticRegression\n",
    "\n",
    "from sklearn.cluster import DBSCAN\n",
    "from sklearn.neighbors import NearestNeighbors\n",
    "from kneed import KneeLocator\n",
    "\n",
    "from sklearn.ensemble import RandomForestClassifier\n",
    "from imblearn.ensemble import BalancedRandomForestClassifier\n",
    "\n",
    "from sklearn.ensemble import IsolationForest"
   ]
  },
  {
   "cell_type": "markdown",
   "id": "486bbbad",
   "metadata": {},
   "source": [
    "## Load and explore the data set:"
   ]
  },
  {
   "cell_type": "code",
   "execution_count": 2,
   "id": "bfa57651",
   "metadata": {},
   "outputs": [
    {
     "data": {
      "text/html": [
       "<div>\n",
       "<style scoped>\n",
       "    .dataframe tbody tr th:only-of-type {\n",
       "        vertical-align: middle;\n",
       "    }\n",
       "\n",
       "    .dataframe tbody tr th {\n",
       "        vertical-align: top;\n",
       "    }\n",
       "\n",
       "    .dataframe thead th {\n",
       "        text-align: right;\n",
       "    }\n",
       "</style>\n",
       "<table border=\"1\" class=\"dataframe\">\n",
       "  <thead>\n",
       "    <tr style=\"text-align: right;\">\n",
       "      <th></th>\n",
       "      <th>costumer</th>\n",
       "      <th>GC</th>\n",
       "      <th>hourofday</th>\n",
       "      <th>minuteofhour</th>\n",
       "      <th>dayofweek</th>\n",
       "      <th>dayofmonth</th>\n",
       "      <th>monthofyear</th>\n",
       "      <th>year</th>\n",
       "      <th>Anomaly</th>\n",
       "    </tr>\n",
       "  </thead>\n",
       "  <tbody>\n",
       "    <tr>\n",
       "      <th>350875</th>\n",
       "      <td>215</td>\n",
       "      <td>0.227</td>\n",
       "      <td>21</td>\n",
       "      <td>30</td>\n",
       "      <td>6</td>\n",
       "      <td>30</td>\n",
       "      <td>6</td>\n",
       "      <td>2013</td>\n",
       "      <td>0</td>\n",
       "    </tr>\n",
       "    <tr>\n",
       "      <th>350876</th>\n",
       "      <td>215</td>\n",
       "      <td>0.275</td>\n",
       "      <td>22</td>\n",
       "      <td>0</td>\n",
       "      <td>6</td>\n",
       "      <td>30</td>\n",
       "      <td>6</td>\n",
       "      <td>2013</td>\n",
       "      <td>0</td>\n",
       "    </tr>\n",
       "    <tr>\n",
       "      <th>350877</th>\n",
       "      <td>215</td>\n",
       "      <td>0.222</td>\n",
       "      <td>22</td>\n",
       "      <td>30</td>\n",
       "      <td>6</td>\n",
       "      <td>30</td>\n",
       "      <td>6</td>\n",
       "      <td>2013</td>\n",
       "      <td>0</td>\n",
       "    </tr>\n",
       "    <tr>\n",
       "      <th>350878</th>\n",
       "      <td>215</td>\n",
       "      <td>0.131</td>\n",
       "      <td>23</td>\n",
       "      <td>0</td>\n",
       "      <td>6</td>\n",
       "      <td>30</td>\n",
       "      <td>6</td>\n",
       "      <td>2013</td>\n",
       "      <td>0</td>\n",
       "    </tr>\n",
       "    <tr>\n",
       "      <th>350879</th>\n",
       "      <td>215</td>\n",
       "      <td>0.071</td>\n",
       "      <td>23</td>\n",
       "      <td>30</td>\n",
       "      <td>6</td>\n",
       "      <td>30</td>\n",
       "      <td>6</td>\n",
       "      <td>2013</td>\n",
       "      <td>0</td>\n",
       "    </tr>\n",
       "  </tbody>\n",
       "</table>\n",
       "</div>"
      ],
      "text/plain": [
       "        costumer     GC  hourofday  minuteofhour  dayofweek  dayofmonth  \\\n",
       "350875       215  0.227         21            30          6          30   \n",
       "350876       215  0.275         22             0          6          30   \n",
       "350877       215  0.222         22            30          6          30   \n",
       "350878       215  0.131         23             0          6          30   \n",
       "350879       215  0.071         23            30          6          30   \n",
       "\n",
       "        monthofyear  year  Anomaly  \n",
       "350875            6  2013        0  \n",
       "350876            6  2013        0  \n",
       "350877            6  2013        0  \n",
       "350878            6  2013        0  \n",
       "350879            6  2013        0  "
      ]
     },
     "execution_count": 2,
     "metadata": {},
     "output_type": "execute_result"
    }
   ],
   "source": [
    "df = read_csv('solar_final_data.csv' ,index_col=0)\n",
    "df.tail()"
   ]
  },
  {
   "cell_type": "code",
   "execution_count": 3,
   "id": "8fbc84c1",
   "metadata": {},
   "outputs": [
    {
     "data": {
      "text/plain": [
       "costumer          int64\n",
       "GC              float64\n",
       "hourofday         int64\n",
       "minuteofhour      int64\n",
       "dayofweek         int64\n",
       "dayofmonth        int64\n",
       "monthofyear       int64\n",
       "year              int64\n",
       "Anomaly           int64\n",
       "dtype: object"
      ]
     },
     "execution_count": 3,
     "metadata": {},
     "output_type": "execute_result"
    }
   ],
   "source": [
    "df.dtypes"
   ]
  },
  {
   "cell_type": "code",
   "execution_count": 4,
   "id": "e7fbd02c",
   "metadata": {},
   "outputs": [
    {
     "data": {
      "text/plain": [
       "costumer        6208.177693\n",
       "GC                 0.083311\n",
       "hourofday         47.916803\n",
       "minuteofhour     225.000641\n",
       "dayofweek          4.002680\n",
       "dayofmonth        77.509242\n",
       "monthofyear       11.899435\n",
       "year               0.499301\n",
       "Anomaly            0.033160\n",
       "dtype: float64"
      ]
     },
     "execution_count": 4,
     "metadata": {},
     "output_type": "execute_result"
    }
   ],
   "source": [
    "# check the data features variances\n",
    "df.var()"
   ]
  },
  {
   "cell_type": "markdown",
   "id": "1046a520",
   "metadata": {},
   "source": [
    "#### Ordinal Encoding of categorical features:"
   ]
  },
  {
   "cell_type": "code",
   "execution_count": 5,
   "id": "4952b993",
   "metadata": {},
   "outputs": [
    {
     "data": {
      "text/plain": [
       "year\n",
       "1       175680\n",
       "0        88320\n",
       "2        86880\n",
       "dtype: int64"
      ]
     },
     "execution_count": 5,
     "metadata": {},
     "output_type": "execute_result"
    }
   ],
   "source": [
    "Enc = OrdinalEncoder()\n",
    "df[\"year\"] = Enc.fit_transform(df[[\"year\"]]).astype('int64')\n",
    "df[[\"year\"]].value_counts()"
   ]
  },
  {
   "cell_type": "code",
   "execution_count": 6,
   "id": "9ccc65f0",
   "metadata": {},
   "outputs": [
    {
     "data": {
      "text/plain": [
       "costumer\n",
       "0           35088\n",
       "1           35088\n",
       "2           35088\n",
       "3           35088\n",
       "4           35088\n",
       "5           35088\n",
       "6           35088\n",
       "7           35088\n",
       "8           35088\n",
       "9           35088\n",
       "dtype: int64"
      ]
     },
     "execution_count": 6,
     "metadata": {},
     "output_type": "execute_result"
    }
   ],
   "source": [
    "Enc_1 = OrdinalEncoder()\n",
    "df[\"costumer\"] = Enc_1.fit_transform(df[[\"costumer\"]]).astype('int64')\n",
    "df[[\"costumer\"]].value_counts()"
   ]
  },
  {
   "cell_type": "markdown",
   "id": "41231c30",
   "metadata": {},
   "source": [
    "#### Calculate the percentage of each class:\n",
    "\n",
    "* We have 3:100 class distribution, which mean the we have a severe class imbalance.\n",
    "* Imbalance ratio= The number of positive instances/The number of negative instances"
   ]
  },
  {
   "cell_type": "code",
   "execution_count": 7,
   "id": "78fa4e95",
   "metadata": {},
   "outputs": [
    {
     "data": {
      "text/plain": [
       "0    96.6\n",
       "1     3.4\n",
       "Name: Anomaly, dtype: float64"
      ]
     },
     "execution_count": 7,
     "metadata": {},
     "output_type": "execute_result"
    }
   ],
   "source": [
    "round(df.Anomaly.value_counts()/df.shape[0],3)*100"
   ]
  },
  {
   "cell_type": "code",
   "execution_count": 8,
   "id": "daed64c2",
   "metadata": {},
   "outputs": [],
   "source": [
    "Imbalance_ratio=round(df.Anomaly[df.Anomaly==1].shape[0]/df.Anomaly[df.Anomaly==0].shape[0],3)"
   ]
  },
  {
   "cell_type": "code",
   "execution_count": 9,
   "id": "5ef7a202",
   "metadata": {},
   "outputs": [
    {
     "data": {
      "text/plain": [
       "0.036"
      ]
     },
     "execution_count": 9,
     "metadata": {},
     "output_type": "execute_result"
    }
   ],
   "source": [
    "Imbalance_ratio"
   ]
  },
  {
   "cell_type": "markdown",
   "id": "8290f77c",
   "metadata": {},
   "source": [
    "#### Plot the histogram of each feature:"
   ]
  },
  {
   "cell_type": "code",
   "execution_count": null,
   "id": "8bb3203e",
   "metadata": {},
   "outputs": [],
   "source": [
    "df['Anomaly'].hist(figsize=(10,8))\n",
    "plt.xlabel('Data class',fontsize=15)\n",
    "plt.ylabel('Data points',fontsize=15)\n",
    "#plt.rc('xtick', labelsize=\"large\") \n",
    "#plt.rc('ytick', labelsize=\"large\") \n",
    "plt.savefig('fig19.pdf')\n",
    "plt.show()"
   ]
  },
  {
   "cell_type": "markdown",
   "id": "509f1d50",
   "metadata": {},
   "source": [
    "#### Ploting the relationships between power consumption and some other variables:"
   ]
  },
  {
   "cell_type": "markdown",
   "id": "619e71ce",
   "metadata": {},
   "source": [
    "- The reference of this part of code is: https://towardsdatascience.com/how-to-perform-exploratory-data-analysis-with-seaborn-97e3413e841d"
   ]
  },
  {
   "cell_type": "code",
   "execution_count": null,
   "id": "082ee385",
   "metadata": {},
   "outputs": [],
   "source": [
    "ax = sns.boxplot(x='Anomaly', y='GC', data=df)\n",
    "sns.set(rc={'figure.figsize':(12,10)})\n",
    "ax.set_xlabel('Is It Anomaly', fontsize=15)\n",
    "ax.set_ylabel('Power consumption KW/h', fontsize=15)\n",
    "#plt.title('The relationships between power consumption and target variable', fontsize=15)\n",
    "#plt.rc('xtick', labelsize=15) \n",
    "#plt.rc('ytick', labelsize=15) \n",
    "plt.savefig('fig20.pdf')\n",
    "plt.show()"
   ]
  },
  {
   "cell_type": "code",
   "execution_count": null,
   "id": "a9182ba0",
   "metadata": {},
   "outputs": [],
   "source": [
    "plt.figure(figsize=(8,6))\n",
    "sorted_values = df.groupby(['monthofyear'])['GC'].mean().sort_values()\n",
    "ax = sns.boxplot(x=df['monthofyear'], y=df['GC'], order=list(sorted_values.index))\n",
    "months = [month_abbr[i] for i in sorted_values.index.values]\n",
    "ax.set_xticklabels(months)\n",
    "ax.set(xlabel='Months', ylabel='Power consumption KW/h')\n",
    "plt.title('The sorted box plots by average monthly power consumption from less to most high')\n",
    "plt.show()"
   ]
  },
  {
   "cell_type": "code",
   "execution_count": null,
   "id": "618a246f",
   "metadata": {},
   "outputs": [],
   "source": [
    "plt.figure(figsize=(8,6))\n",
    "sorted_values = df.groupby(['dayofweek'])['GC'].sum().sort_values()\n",
    "ax = sns.boxplot(x=df['dayofweek'], y=df['GC'], order=list(sorted_values.index))\n",
    "days = [day_abbr[i] for i in sorted_values.index.values]\n",
    "ax.set_xticklabels(days)\n",
    "ax.set(xlabel='Months', ylabel='Power consumption KW/h')\n",
    "plt.title('The sorted box plots by total daily power consumption from less to most high')\n",
    "plt.show()"
   ]
  },
  {
   "cell_type": "markdown",
   "id": "03a963a1",
   "metadata": {},
   "source": [
    "#### Skewed Class Distributions:"
   ]
  },
  {
   "cell_type": "markdown",
   "id": "20424824",
   "metadata": {},
   "source": [
    "- Plot density distrubtion for normal class (class = 0):"
   ]
  },
  {
   "cell_type": "code",
   "execution_count": null,
   "id": "c31e590e",
   "metadata": {},
   "outputs": [],
   "source": [
    "sns.histplot(df.GC[df.Anomaly == 0], kde=True, color='red', bins=100)"
   ]
  },
  {
   "cell_type": "code",
   "execution_count": null,
   "id": "2f5fa61c",
   "metadata": {},
   "outputs": [],
   "source": [
    "print(\"Mean:\",round(df.GC[df.Anomaly == 0].mean(),3),\"\\nMedian\",df.GC[df.Anomaly == 0].median(),\n",
    "      \"\\nMode\",df.GC[df.Anomaly == 0].mode()[0],\"\\nStandard deviation\",round(df.GC[df.Anomaly == 0].std(),3))"
   ]
  },
  {
   "cell_type": "markdown",
   "id": "994a91f4",
   "metadata": {},
   "source": [
    "- Plot density distribution for anomaly class (class=1):"
   ]
  },
  {
   "cell_type": "code",
   "execution_count": null,
   "id": "e8cc458e",
   "metadata": {},
   "outputs": [],
   "source": [
    "sns.histplot(df.GC[df.Anomaly == 1], kde=True, color='red', bins=100)"
   ]
  },
  {
   "cell_type": "markdown",
   "id": "4c14374b",
   "metadata": {},
   "source": [
    "# Split the data set:"
   ]
  },
  {
   "cell_type": "markdown",
   "id": "45f1bf06",
   "metadata": {},
   "source": [
    "* We split the data to train and test sets."
   ]
  },
  {
   "cell_type": "code",
   "execution_count": 10,
   "id": "efe03414",
   "metadata": {},
   "outputs": [],
   "source": [
    "x_train, x_test, y_train, y_test = train_test_split(df.loc[:, ~df.columns.isin(['Anomaly'])], df.Anomaly,\n",
    "                                                    test_size=0.3, random_state=4,stratify=df.Anomaly,shuffle=True)"
   ]
  },
  {
   "cell_type": "code",
   "execution_count": 11,
   "id": "dd18cc84",
   "metadata": {},
   "outputs": [
    {
     "name": "stdout",
     "output_type": "stream",
     "text": [
      "Train set size: (245616, 8) \n",
      "Test set size: (105264, 8)\n"
     ]
    }
   ],
   "source": [
    "print(\"Train set size:\",x_train.shape,\"\\nTest set size:\",x_test.shape)"
   ]
  },
  {
   "cell_type": "code",
   "execution_count": 12,
   "id": "90a9bf9d",
   "metadata": {},
   "outputs": [
    {
     "name": "stdout",
     "output_type": "stream",
     "text": [
      "Train set:\n",
      " 0    96.6\n",
      "1     3.4\n",
      "Name: Anomaly, dtype: float64\n",
      "Test set:\n",
      " 0    96.6\n",
      "1     3.4\n",
      "Name: Anomaly, dtype: float64\n"
     ]
    }
   ],
   "source": [
    "# Check that all train set, validate set and test set has the same percentage of the positive class\n",
    "print(\"Train set:\\n\",round(y_train.value_counts()/y_train.shape[0],3)*100)\n",
    "print(\"Test set:\\n\",round(y_test.value_counts()/y_test.shape[0],3)*100)"
   ]
  },
  {
   "cell_type": "markdown",
   "id": "d5cc9643",
   "metadata": {},
   "source": [
    "# Hybridsampling Method SMOTE+ENN:"
   ]
  },
  {
   "cell_type": "markdown",
   "id": "3b50e05b",
   "metadata": {},
   "source": [
    "#### The classes before sampling:"
   ]
  },
  {
   "cell_type": "code",
   "execution_count": 13,
   "id": "2f408b06",
   "metadata": {},
   "outputs": [
    {
     "data": {
      "text/plain": [
       "0    237182\n",
       "1      8434\n",
       "Name: Anomaly, dtype: int64"
      ]
     },
     "execution_count": 13,
     "metadata": {},
     "output_type": "execute_result"
    }
   ],
   "source": [
    "y_train.value_counts()"
   ]
  },
  {
   "cell_type": "code",
   "execution_count": 14,
   "id": "f6e17b2b",
   "metadata": {},
   "outputs": [
    {
     "data": {
      "image/png": "[encoded data removed]",
      "text/plain": [
       "<Figure size 720x576 with 1 Axes>"
      ]
     },
     "metadata": {
      "needs_background": "light"
     },
     "output_type": "display_data"
    }
   ],
   "source": [
    "y_train.hist(figsize=(10,8))\n",
    "plt.xlabel('Data class',fontsize=15)\n",
    "plt.ylabel('Data points',fontsize=15)\n",
    "#plt.rc('xtick', labelsize=15) \n",
    "#plt.rc('ytick', labelsize=15) \n",
    "plt.savefig('fig21_1.pdf')"
   ]
  },
  {
   "cell_type": "markdown",
   "id": "258dd9c4",
   "metadata": {},
   "source": [
    "#### The classes after sampling:"
   ]
  },
  {
   "cell_type": "code",
   "execution_count": 15,
   "id": "9c69829d",
   "metadata": {},
   "outputs": [],
   "source": [
    "sme = SMOTEENN(sampling_strategy='all')\n",
    "resample_x, resample_y = sme.fit_resample(x_train, y_train)"
   ]
  },
  {
   "cell_type": "code",
   "execution_count": 16,
   "id": "2331ee0e",
   "metadata": {},
   "outputs": [
    {
     "data": {
      "text/plain": [
       "1    235552\n",
       "0    218320\n",
       "Name: Anomaly, dtype: int64"
      ]
     },
     "execution_count": 16,
     "metadata": {},
     "output_type": "execute_result"
    }
   ],
   "source": [
    "resample_y.value_counts()"
   ]
  },
  {
   "cell_type": "code",
   "execution_count": 17,
   "id": "d10ebbf8",
   "metadata": {},
   "outputs": [
    {
     "data": {
      "image/png": "[encoded data removed]",
      "text/plain": [
       "<Figure size 720x576 with 1 Axes>"
      ]
     },
     "metadata": {
      "needs_background": "light"
     },
     "output_type": "display_data"
    }
   ],
   "source": [
    "resample_y.hist(figsize=(10,8))\n",
    "plt.xlabel('Data class',fontsize=15)\n",
    "plt.ylabel('Data points',fontsize=15)\n",
    "#plt.rc('xtick', labelsize=15) \n",
    "#plt.rc('ytick', labelsize=15) \n",
    "plt.savefig('fig21_2.pdf')"
   ]
  },
  {
   "cell_type": "markdown",
   "id": "7b5facf8",
   "metadata": {},
   "source": [
    "# Evaluating Matrices:"
   ]
  },
  {
   "cell_type": "code",
   "execution_count": 18,
   "id": "264e7bd8",
   "metadata": {},
   "outputs": [],
   "source": [
    "from sklearn.metrics import precision_score\n",
    "from sklearn.metrics import recall_score\n",
    "from sklearn.metrics import fbeta_score\n",
    "from sklearn.metrics import f1_score\n",
    "from sklearn.metrics import roc_curve\n",
    "from sklearn.metrics import roc_auc_score\n",
    "from sklearn.metrics import confusion_matrix\n",
    "from sklearn.metrics import classification_report\n",
    "\n",
    "'''In imbalanced datasets, the goal is to improve recall without hurting precision.'''\n",
    "\n",
    "def evaluation(y_true,y_pred,y_pred_proba):\n",
    "    \n",
    "    con_matrix = confusion_matrix(y_true, y_pred)\n",
    "    tn,fp,fn,tp =con_matrix.flat\n",
    "    \n",
    "    classes=[0,1]\n",
    "    fig, ax = plt.subplots()\n",
    "    sns.heatmap(pd.DataFrame(con_matrix), annot=True,fmt='g', cmap=\"Blues\")\n",
    "    ticks = np.arange(len(classes))\n",
    "    plt.xticks(ticks, classes)\n",
    "    plt.yticks(ticks, classes)\n",
    "    plt.title('Confusion matrix')\n",
    "    plt.ylabel('True labels')\n",
    "    plt.xlabel('Predicted labels')\n",
    "    plt.show()\n",
    "    \n",
    "    #==================================================================\n",
    "    \n",
    "    Sensitivity = round(tp/(tp+fn),3)\n",
    "    Specificity = round(tn/(tn+fp),3)\n",
    "    G_mean=round(np.sqrt(Sensitivity*Specificity),3)\n",
    "    print(\"\\nSensitivity = Recall\", Sensitivity,\"\\nSpecificity \",Specificity,\"\\nG_mean \",G_mean)\n",
    "    fp_rate = round(fp/(fp+tn),3)\n",
    "    print(\"\\n False positive rate\", fp_rate )\n",
    "    print(\"\\n True positive Rate \",Sensitivity)\n",
    "    F2 = round(fbeta_score(y_true, y_pred, average='binary', beta=2),3)\n",
    "    print(\"\\n F2-score\",F2)\n",
    "    \n",
    "    #===================================================================\n",
    "\n",
    "    print(\"\\n\\n\\n The classification_report\")\n",
    "    print(classification_report(y_true,y_pred, labels=[0,1]))    \n",
    "\n",
    "    #==================================================================\n",
    "    \n",
    "    P =round(precision_score(y_true, y_pred, average='weighted'),3)\n",
    "    R = round(recall_score(y_true, y_pred, average='weighted'),3)\n",
    "    F1 = round(f1_score(y_true, y_pred, average='weighted'),3)\n",
    "    roc_auc = []\n",
    "    if (np.array_equal(y_pred_proba,np.array([]))) != True:\n",
    "        print(\"\\n ROC curve + AUC score\")\n",
    "        fpr, tpr, _ = roc_curve(y_true, y_pred_proba)\n",
    "        roc_auc = round(roc_auc_score(y_true, y_pred_proba),3)\n",
    "        plt.plot(fpr,tpr,label=\"AUC=\"+str(roc_auc),marker='.')\n",
    "        plt.xlabel('FPR')\n",
    "        plt.ylabel('TPR')\n",
    "        plt.legend()\n",
    "        plt.show()\n",
    "\n",
    "    #===================================================================\n",
    "    \n",
    "    scores=dict()\n",
    "    scores['Sensitivity']=Sensitivity\n",
    "    scores['Specificity']=Specificity\n",
    "    scores['G_mean']=G_mean\n",
    "    scores['False_positive_rate']=fp_rate\n",
    "    scores['Precision']=P\n",
    "    scores['Recall']=R\n",
    "    scores['F1-score']=F1\n",
    "    scores['F2-score']=F2\n",
    "    scores['roc_auc_score']=roc_auc\n",
    "    \n",
    "    return scores"
   ]
  },
  {
   "cell_type": "markdown",
   "id": "098102c0",
   "metadata": {},
   "source": [
    "# =========================================="
   ]
  },
  {
   "cell_type": "markdown",
   "id": "3ed88cd7",
   "metadata": {},
   "source": [
    "# Cost-Sensitive Logistic Regression :"
   ]
  },
  {
   "cell_type": "markdown",
   "id": "ec88112d",
   "metadata": {},
   "source": [
    "#### Calculat class wights:\n",
    "* weighting = n samples /(n classes × n samples with class)"
   ]
  },
  {
   "cell_type": "code",
   "execution_count": 19,
   "id": "4960a303",
   "metadata": {},
   "outputs": [
    {
     "name": "stdout",
     "output_type": "stream",
     "text": [
      "[ 0.5177796  14.56106237]\n"
     ]
    },
    {
     "name": "stderr",
     "output_type": "stream",
     "text": [
      "/Users/eserrari/opt/anaconda3/lib/python3.8/site-packages/sklearn/utils/validation.py:70: FutureWarning: Pass classes=[0, 1], y=[0 0 0 ... 0 0 0] as keyword args. From version 1.0 (renaming of 0.25) passing these as positional arguments will result in an error\n",
      "  warnings.warn(f\"Pass {args_msg} as keyword args. From version \"\n"
     ]
    }
   ],
   "source": [
    "weighting = compute_class_weight('balanced',[0,1], y_train.values) \n",
    "print(weighting)"
   ]
  },
  {
   "cell_type": "markdown",
   "id": "38041e4b",
   "metadata": {},
   "source": [
    "### Training models comparison: "
   ]
  },
  {
   "cell_type": "markdown",
   "id": "defa12cb",
   "metadata": {},
   "source": [
    "The comparison based on mean F1-score, and runing time of training set.\n",
    "\n",
    "- Class weighted Logistic Regression model.\n",
    "- Class weighted Logistic Regression model with only SMOTEENN resampling.\n",
    "- Class weighted Logistic Regression model with SMOTEENN resampling and rescaling.\n",
    "- Class weighted Logistic Regression model with only rescaling."
   ]
  },
  {
   "cell_type": "code",
   "execution_count": null,
   "id": "96e5ad1a",
   "metadata": {},
   "outputs": [],
   "source": [
    "start = time.time()\n",
    "model_1 = LogisticRegression(class_weight='balanced',max_iter=5000)\n",
    "cv = RepeatedStratifiedKFold(n_splits=10, n_repeats=3, random_state=1)\n",
    "scores = cross_val_score(model_1, x_train, y_train, scoring='f1', cv=cv) \n",
    "print('Mean F1_score: %.3f' % np.mean(scores))\n",
    "print(\"Logistic Regression with original data is done in %0.2fs\" % (time.time() - start))"
   ]
  },
  {
   "cell_type": "code",
   "execution_count": null,
   "id": "70cfb9f5",
   "metadata": {},
   "outputs": [],
   "source": [
    "start = time.time()\n",
    "model_2 = LogisticRegression(class_weight='balanced',max_iter=5000)\n",
    "cv = RepeatedStratifiedKFold(n_splits=10, n_repeats=3, random_state=1)\n",
    "scores = cross_val_score(model_2, resample_x, resample_y, scoring='f1', cv=cv)  \n",
    "print('Mean F1_score: %.3f' % np.mean(scores))\n",
    "print(\"Logistic Regression with resamling method is done in %0.2fs\" % (time.time() - start))"
   ]
  },
  {
   "cell_type": "code",
   "execution_count": null,
   "id": "6af88e54",
   "metadata": {},
   "outputs": [],
   "source": [
    "start = time.time()\n",
    "model_3 = LogisticRegression( class_weight='balanced',max_iter=5000)\n",
    "cv = RepeatedStratifiedKFold(n_splits=10, n_repeats=3, random_state=1)\n",
    "scale = StandardScaler()\n",
    "pipeline = Pipeline(steps=[('scale', scale), ('model', model_3)])\n",
    "scores = cross_val_score(pipeline, resample_x, resample_y, scoring='f1', cv=cv)  \n",
    "print('Mean F1_score: %.3f' % np.mean(scores))\n",
    "print(\"Logistic Regression with resmapling and rescaling method is done in %0.2fs\" % (time.time() - start))"
   ]
  },
  {
   "cell_type": "code",
   "execution_count": null,
   "id": "630502ac",
   "metadata": {},
   "outputs": [],
   "source": [
    "start = time.time()\n",
    "model_4 = LogisticRegression( class_weight='balanced',max_iter=5000)\n",
    "cv = RepeatedStratifiedKFold(n_splits=10, n_repeats=3, random_state=1)\n",
    "pipeline_1 = Pipeline(steps=[('scale', scale), ('model', model_4)])\n",
    "scores = cross_val_score(pipeline_1, x_train, y_train, scoring='f1', cv=cv)  \n",
    "print('Mean F1_score: %.3f' % np.mean(scores))\n",
    "print(\"Logistic Regression with resmapling and rescaling method is done in %0.2fs\" % (time.time() - start))"
   ]
  },
  {
   "cell_type": "markdown",
   "id": "1f37538f",
   "metadata": {},
   "source": [
    "### Hyperparameter Tuning for LogisticRegression:"
   ]
  },
  {
   "cell_type": "markdown",
   "id": "fc9f24e8",
   "metadata": {},
   "source": [
    "* ####  Using Grid Search Hyperparameter Tuning:"
   ]
  },
  {
   "cell_type": "code",
   "execution_count": null,
   "id": "572ff8ce",
   "metadata": {
    "scrolled": true
   },
   "outputs": [],
   "source": [
    "start = time.time()\n",
    "LR_model = LogisticRegression(max_iter=5000,multi_class='ovr',verbose=True)\n",
    "cv = RepeatedStratifiedKFold(n_splits=10, n_repeats=3, random_state=0)\n",
    "balance = [{0:10,1:1}, {0:1,1:1}, {0:1,1:10},'balanced']\n",
    "param_grid = dict(model__class_weight=balance)\n",
    "param_grid['model__C'] = [0.01, 0.1, 1, 10]\n",
    "param_grid['model__solver'] = ['lbfgs', 'liblinear','saga']\n",
    "param_grid['model__penalty'] = ['l1', 'l2']\n",
    "scaling =StandardScaler()\n",
    "pipe = Pipeline(steps=[('scaler', scaling), ('model', LR_model)])\n",
    "search = GridSearchCV(pipe, param_grid ,scoring='f1', cv=cv)\n",
    "best_model = search.fit(resample_x, resample_y)\n",
    "end = time.time()\n",
    "\n",
    "print('Best F1-Score: %s' % best_model.best_score_)\n",
    "print('Best Hyperparameters: %s' % best_model.best_params_)\n",
    "print('Time consumed is: ',end - start)"
   ]
  },
  {
   "cell_type": "markdown",
   "id": "20a1cf26",
   "metadata": {},
   "source": [
    "- The Grid search took long time to give  the best results, the time consumed was 3583.01s.\n",
    "- The F1-score for the best Parameters of the grid search was 0.959.\n",
    "- The best parameters of the grid search was:\n",
    "    {'model__C': 0.01,\n",
    "     'model__class_weight': {0: 1, 1: 1},\n",
    "     'model__penalty': 'l1',\n",
    "     'model__solver': 'saga'}"
   ]
  },
  {
   "cell_type": "code",
   "execution_count": null,
   "id": "b85835f9",
   "metadata": {},
   "outputs": [],
   "source": [
    "best_model.best_score_"
   ]
  },
  {
   "cell_type": "code",
   "execution_count": null,
   "id": "b20776ad",
   "metadata": {},
   "outputs": [],
   "source": [
    "best_model.best_params_"
   ]
  },
  {
   "cell_type": "markdown",
   "id": "c1bd518e",
   "metadata": {},
   "source": [
    "* #### Evaluate Logistic Regression model with the grid search's best parameters:"
   ]
  },
  {
   "cell_type": "code",
   "execution_count": null,
   "id": "0ce57cc7",
   "metadata": {},
   "outputs": [],
   "source": [
    "scale = StandardScaler()\n",
    "scale_resample_x=scale.fit_transform(resample_x)\n",
    "scale_resample_x=scale.transform(resample_x)\n",
    "scale_x_test= scale.transform(x_test)\n",
    "\n",
    "start =time.time()\n",
    "LR_model = LogisticRegression(class_weight={0: 1, 1: 1},C=0.01,solver='saga',penalty='l1',max_iter=5000\n",
    "                              ,multi_class='ovr').fit(scale_resample_x, resample_y)\n",
    "y_pred =LR_model.predict(scale_x_test)\n",
    "y_pred_proba=LR_model.predict_proba(scale_x_test)[::,1]\n",
    "LR_run_time = time.time() - start\n",
    "print(\"done in %0.3fs\" % LR_run_time)"
   ]
  },
  {
   "cell_type": "code",
   "execution_count": null,
   "id": "c4d9b93b",
   "metadata": {},
   "outputs": [],
   "source": [
    "LR_scores = evaluation(y_test,y_pred,y_pred_proba)"
   ]
  },
  {
   "cell_type": "markdown",
   "id": "4d5dc89b",
   "metadata": {},
   "source": [
    "* #### Using Bayesian Hyperparameter Optimization Tuning:"
   ]
  },
  {
   "cell_type": "markdown",
   "id": "0300b0e6",
   "metadata": {},
   "source": [
    "* The reference of this part of code is: \n",
    "    - https://maelfabien.github.io/machinelearning/HyperOpt/#\n",
    "    - https://github.com/WillKoehrsen/hyperparameter-optimization/blob/master/Bayesian%20Hyperparameter%20Optimization%20of%20Gradient%20Boosting%20Machine.ipynb"
   ]
  },
  {
   "cell_type": "code",
   "execution_count": null,
   "id": "028e93ce",
   "metadata": {},
   "outputs": [],
   "source": [
    "N_FOLDS = 10\n",
    "MAX_EVALS = 25\n",
    "space = {\n",
    "    'class_weight': hp.choice('class_weight', ['balanced',{0:10,1:1}, {0:1,1:1}, {0:1,1:10}]),\n",
    "    'penalty' : hp.choice('penalty', ['l1', 'l2']),\n",
    "    'C' : hp.choice('C', [0.01, 0.1, 1, 10]),\n",
    "    'solver' : hp.choice('solver', ['lbfgs', 'liblinear', 'saga']),\n",
    "}"
   ]
  },
  {
   "cell_type": "code",
   "execution_count": null,
   "id": "fec4acda",
   "metadata": {},
   "outputs": [],
   "source": [
    "def objective(params, n_folds = N_FOLDS):\n",
    "    \"\"\"Objective function for Logistic Regression Hyperparameter Tuning\"\"\"\n",
    "    # Perform n_fold cross validation with hyperparameters\n",
    "    # Use early stopping and evaluate based on f1-score\n",
    "    start = time.time()\n",
    "    LR_model = LogisticRegression(**params,verbose =0,max_iter=5000) #,class_weight='balanced'\n",
    "    cv = RepeatedStratifiedKFold(n_splits=10, n_repeats=3, random_state=1)\n",
    "    scale = StandardScaler()\n",
    "    pipeline = Pipeline(steps=[('scale', scale), ('model', LR_model)])\n",
    "    scores = cross_val_score(LR_model, resample_x, resample_y, cv=cv, scoring='f1')  \n",
    "    # Extract the best score\n",
    "    best_score = max(scores)\n",
    "    # Loss must be minimized\n",
    "    loss = 1 - best_score\n",
    "    run_time = time.time()-start\n",
    "    \n",
    "    return {'loss': loss, 'params': params, 'best_score':best_score,\n",
    "            'train_time': run_time, 'status': STATUS_OK}"
   ]
  },
  {
   "cell_type": "code",
   "execution_count": null,
   "id": "d39a2042",
   "metadata": {},
   "outputs": [],
   "source": [
    "\n",
    "'''The tuning time consumed is 1486.813s'''\n",
    "\n",
    "# Tree Parzen Estimators Algorithm\n",
    "tpe_algorithm = tpe.suggest\n",
    "\n",
    "# Trials object to track progress\n",
    "LR_bayes_trials = Trials()\n",
    "\n",
    "# Optimize\n",
    "best_parms = fmin(fn = objective, space = space, algo = tpe.suggest,\n",
    "                  max_evals = MAX_EVALS, trials = LR_bayes_trials)"
   ]
  },
  {
   "cell_type": "markdown",
   "id": "3cb55f65",
   "metadata": {},
   "source": [
    "The Trials object attribute (.results) hold all the objective function information. Therefore, we'll get the best hyperparameters that performed the most desirable when we sort it by lowest loss score."
   ]
  },
  {
   "cell_type": "code",
   "execution_count": null,
   "id": "9c7eb095",
   "metadata": {},
   "outputs": [],
   "source": [
    "# Sort the trials results by lowest loss (highest F-score) first\n",
    "LR_bayes_trials_results = sorted(LR_bayes_trials.results, key = lambda x: x['loss'])\n",
    "LR_best_params = LR_bayes_trials_results[0]['params']\n",
    "print(\"Best parameters\",LR_best_params)\n",
    "print(\"The train time consumed %0.3fs\" % LR_bayes_trials_results[0]['train_time'])"
   ]
  },
  {
   "cell_type": "code",
   "execution_count": null,
   "id": "4852d397",
   "metadata": {},
   "outputs": [],
   "source": [
    "LR_all_time = sum([LR_bayes_trials_results[i]['train_time'] for i in range(len(LR_bayes_trials_results))])\n",
    "print(\"The tuning time consumed %0.3fs\" % LR_all_time)"
   ]
  },
  {
   "cell_type": "markdown",
   "id": "9812300f",
   "metadata": {},
   "source": [
    "* #### Evaluate Logistic Regression model with the bayesian optimization's best parameters:"
   ]
  },
  {
   "cell_type": "code",
   "execution_count": 20,
   "id": "1c8bd8dc",
   "metadata": {},
   "outputs": [
    {
     "name": "stdout",
     "output_type": "stream",
     "text": [
      "done in 2.422s\n"
     ]
    }
   ],
   "source": [
    "LR_best_params = {'C': 0.01, 'class_weight': {0:1,1:1}, 'penalty': 'l1', 'solver': 'saga'}\n",
    "scale = StandardScaler()\n",
    "scale_resample_x=scale.fit_transform(resample_x)\n",
    "scale_resample_x=scale.transform(resample_x)#,class_weight='balanced'\n",
    "scale_x_test= scale.transform(x_test)\n",
    "\n",
    "start =time.time()\n",
    "LR_model = LogisticRegression(**LR_best_params,max_iter=5000,\n",
    "                              multi_class='ovr').fit(scale_resample_x, resample_y)\n",
    "LR_y_pred =LR_model.predict(scale_x_test)\n",
    "LR_y_pred_proba=LR_model.predict_proba(scale_x_test)[::,1]\n",
    "LR_run_time = time.time() - start\n",
    "print(\"done in %0.3fs\" % LR_run_time)"
   ]
  },
  {
   "cell_type": "code",
   "execution_count": 21,
   "id": "d198d35d",
   "metadata": {},
   "outputs": [
    {
     "data": {
      "image/png": "[encoded data removed]",
      "text/plain": [
       "<Figure size 432x288 with 2 Axes>"
      ]
     },
     "metadata": {
      "needs_background": "light"
     },
     "output_type": "display_data"
    },
    {
     "name": "stdout",
     "output_type": "stream",
     "text": [
      "\n",
      "Sensitivity = Recall 0.911 \n",
      "Specificity  0.932 \n",
      "G_mean  0.921\n",
      "\n",
      " False positive rate 0.068\n",
      "\n",
      " True positive Rate  0.911\n",
      "\n",
      " F2-score 0.666\n",
      "\n",
      "\n",
      "\n",
      " The classification_report\n",
      "              precision    recall  f1-score   support\n",
      "\n",
      "           0       1.00      0.93      0.96    101649\n",
      "           1       0.32      0.91      0.48      3615\n",
      "\n",
      "    accuracy                           0.93    105264\n",
      "   macro avg       0.66      0.92      0.72    105264\n",
      "weighted avg       0.97      0.93      0.95    105264\n",
      "\n",
      "\n",
      " ROC curve + AUC score\n"
     ]
    },
    {
     "data": {
      "image/png": "[encoded data removed]",
      "text/plain": [
       "<Figure size 432x288 with 1 Axes>"
      ]
     },
     "metadata": {
      "needs_background": "light"
     },
     "output_type": "display_data"
    }
   ],
   "source": [
    "LR_scores = evaluation(y_test,LR_y_pred,LR_y_pred_proba)"
   ]
  },
  {
   "cell_type": "markdown",
   "id": "fdab34fb",
   "metadata": {},
   "source": [
    "### Note:\n",
    "Both tuning methods' best parameters have similar scores. However, the grid search took away long time to finish."
   ]
  },
  {
   "cell_type": "markdown",
   "id": "de73caf9",
   "metadata": {},
   "source": [
    "# ==============================================="
   ]
  },
  {
   "cell_type": "markdown",
   "id": "aff24b1c",
   "metadata": {},
   "source": [
    "# DBSCAN:"
   ]
  },
  {
   "cell_type": "markdown",
   "id": "1107a365",
   "metadata": {},
   "source": [
    "#### DBSCAN using heuristics parameters:\n",
    "\n",
    "- The reference for choosing min_samples parameter is: \"DBSCAN Revisited, Revisited: Why and How You Should (Still) Use DBSCAN\",https://dl.acm.org/doi/abs/10.1145/3068335.\n",
    "- They suggested using minPts = 2 · dim, which means in our case 2 * 8 = 16.\n",
    "- The reference for choosing eps parameter is: \"Multivariate weather anomaly detection using DBSCAN clustering algorithm\", https://iopscience.iop.org/article/10.1088/1742-6596/1869/1/012077\n",
    "- We'll use 'knee in the KNN distance plot to identify eps.\n",
    "- the reference of Kneelocator code is: https://towardsdatascience.com/how-to-use-dbscan-effectively-ed212c02e62."
   ]
  },
  {
   "cell_type": "code",
   "execution_count": 22,
   "id": "4b5bb03b",
   "metadata": {},
   "outputs": [],
   "source": [
    "def get_eps(x,min_Pts):\n",
    "    NN = NearestNeighbors(n_neighbors=min_Pts)\n",
    "    neighbors_n = NN.fit(x)\n",
    "    dist, _ = neighbors_n.kneighbors(x)\n",
    "    distances = np.sort(dist[:,min_Pts-1], axis=0)\n",
    "    i = np.arange(len(distances))\n",
    "    knee = KneeLocator(i, distances, S=1, curve='convex', direction='increasing', interp_method='polynomial')\n",
    "    fig = plt.figure(figsize=(5, 5))\n",
    "    knee.plot_knee()\n",
    "    plt.xlabel(\"Points\")\n",
    "    plt.ylabel(\"Distance\")\n",
    "    plt.show()\n",
    "    eps = round(distances[knee.knee],3)\n",
    "    print(\"eps is %0.3f\" %eps)\n",
    "    return eps"
   ]
  },
  {
   "cell_type": "markdown",
   "id": "4dd08c75",
   "metadata": {},
   "source": [
    "#### First, we run DBSCAN on original data:"
   ]
  },
  {
   "cell_type": "code",
   "execution_count": null,
   "id": "8f9cdbcb",
   "metadata": {},
   "outputs": [],
   "source": [
    "eps = get_eps(x_train,x_train.shape[1]*2)\n",
    "start = time.time()\n",
    "clustering = DBSCAN(eps = eps, min_samples = x_train.shape[1]*2).fit(x_train)\n",
    "anom_index = np.where(clustering.labels_ == -1)[0]\n",
    "anom_values = np.zeros(shape=y_train.shape)\n",
    "anom_values[anom_index]=1\n",
    "f1 = f1_score(y_train, anom_values, average='binary') # \"binary\" => Only report results for the positive class\n",
    "print('F1_score for postive class: %.3f' % f1)\n",
    "print(\"DBSCAN with original data is done in %0.2fs\" % (time.time() - start))"
   ]
  },
  {
   "cell_type": "markdown",
   "id": "034863ce",
   "metadata": {},
   "source": [
    "#### Second, we run DBSCAN on Standardised data:"
   ]
  },
  {
   "cell_type": "code",
   "execution_count": 23,
   "id": "5a4701ee",
   "metadata": {},
   "outputs": [],
   "source": [
    "scaler = StandardScaler()\n",
    "x_scale_train = scaler.fit_transform(x_train)\n",
    "scale_train = pd.DataFrame(x_scale_train)\n",
    "scale_train.columns = x_train.columns.tolist()"
   ]
  },
  {
   "cell_type": "code",
   "execution_count": 24,
   "id": "c9d5c42a",
   "metadata": {},
   "outputs": [
    {
     "data": {
      "text/plain": [
       "<Figure size 360x360 with 0 Axes>"
      ]
     },
     "metadata": {},
     "output_type": "display_data"
    },
    {
     "data": {
      "image/png": "[encoded data removed]",
      "text/plain": [
       "<Figure size 432x432 with 1 Axes>"
      ]
     },
     "metadata": {
      "needs_background": "light"
     },
     "output_type": "display_data"
    },
    {
     "name": "stdout",
     "output_type": "stream",
     "text": [
      "eps is 0.752\n",
      "F1_score for postive class: 0.575\n",
      "DBSCAN with standardised data is done in 57.95s\n"
     ]
    }
   ],
   "source": [
    "eps = get_eps(scale_train,scale_train.shape[1]*2)\n",
    "start = time.time()\n",
    "clustering = DBSCAN(eps = eps, min_samples = scale_train.shape[1]*2).fit(scale_train)\n",
    "anom_index = np.where(clustering.labels_ == -1)[0]\n",
    "anom_values = np.zeros(shape=y_train.shape)\n",
    "anom_values[anom_index]=1\n",
    "f1 = f1_score(y_train, anom_values, average='binary')# \"binary\" => Only report results for the positive class\n",
    "print('F1_score for postive class: %.3f' % f1)\n",
    "print(\"DBSCAN with standardised data is done in %0.2fs\" % (time.time() - start))"
   ]
  },
  {
   "cell_type": "markdown",
   "id": "a2a26b2e",
   "metadata": {},
   "source": [
    "# ============================"
   ]
  },
  {
   "cell_type": "markdown",
   "id": "5ebc6d63",
   "metadata": {},
   "source": [
    "### Hyperparameter Tuning for DBSCAN:"
   ]
  },
  {
   "cell_type": "markdown",
   "id": "95b1ad94",
   "metadata": {},
   "source": [
    "* #### Using Grid Search Hyperparameter Tuning:"
   ]
  },
  {
   "cell_type": "code",
   "execution_count": null,
   "id": "527b779b",
   "metadata": {},
   "outputs": [],
   "source": [
    "scaler = StandardScaler()\n",
    "x = scaler.fit_transform(x_train)\n",
    "y = y_train.to_numpy()"
   ]
  },
  {
   "cell_type": "code",
   "execution_count": null,
   "id": "01d4e097",
   "metadata": {},
   "outputs": [],
   "source": [
    "def cross_validation_function(params,x,y):\n",
    "    fold_index = RepeatedStratifiedKFold(n_splits=10, n_repeats=1,random_state=4)\n",
    "    scores = []\n",
    "    for train_index, test_index in fold_index.split(x,y):\n",
    "        X_train, X_test = x[train_index], x[test_index]\n",
    "        y_train, y_test = y[train_index], y[test_index]\n",
    "\n",
    "        model = DBSCAN(**params).fit(X_train)\n",
    "        labels = model.fit_predict(X_test)\n",
    "        anom_index = np.where(labels == -1)[0]\n",
    "        y_pred = np.zeros(shape=y_test.shape)\n",
    "        y_pred[anom_index]=1\n",
    "        f1 = round(f1_score(y_test, y_pred, average='binary'),3)\n",
    "        scores.append(f1)\n",
    "    return round(np.mean(scores),3)"
   ]
  },
  {
   "cell_type": "code",
   "execution_count": null,
   "id": "a6f457f7",
   "metadata": {},
   "outputs": [],
   "source": [
    "'''The tuning time consumed 21485.940s'''\n",
    "param_grid = dict()\n",
    "param_grid['eps'] = [0.3,0.6,0.8,1.0,1.5]\n",
    "param_grid['min_samples'] = [12,16,24,27,32]\n",
    "\n",
    "# Generate all combinations of parameters\n",
    "all_params = [dict(zip(param_grid.keys(), v)) for v in itertools.product(*param_grid.values())]\n",
    "f1_s = []\n",
    "run_time = []\n",
    "\n",
    "for params in all_params:\n",
    "    print(\"params\",params)\n",
    "    start = time.time()\n",
    "    score = cross_validation_function(params,x,y)\n",
    "    run_time.append(time.time() - start)\n",
    "    f1_s.append(score)"
   ]
  },
  {
   "cell_type": "code",
   "execution_count": null,
   "id": "dbb16455",
   "metadata": {},
   "outputs": [],
   "source": [
    "DBSCAN_best_params = all_params[np.argmax(f1_s)]\n",
    "print(\"Best parameters\",DBSCAN_best_params)\n",
    "print(\"The tuning time consumed %0.3fs\" % sum(run_time))"
   ]
  },
  {
   "cell_type": "markdown",
   "id": "54dc229e",
   "metadata": {},
   "source": [
    "* #### Evaluate DBSCAN model with the grid search's best parameters:"
   ]
  },
  {
   "cell_type": "code",
   "execution_count": null,
   "id": "1db9ffef",
   "metadata": {},
   "outputs": [],
   "source": [
    "DBSCAN_best_params={'eps': 1.5, 'min_samples': 32}\n",
    "\n",
    "scale = StandardScaler()\n",
    "scale_x_train = scale.fit_transform(x_train)\n",
    "scale_x_test= scale.transform(x_test)\n",
    "\n",
    "start =time.time()\n",
    "DBSCAN_model = DBSCAN(**DBSCAN_best_params).fit(scale_x_train)\n",
    "labels = DBSCAN_model.fit_predict(scale_x_test)\n",
    "anom_index = np.where(labels == -1)[0]\n",
    "DBSCAN_y_pred = np.zeros(shape=y_test.shape)\n",
    "DBSCAN_y_pred[anom_index]= 1\n",
    "DBSCAN_run_time = time.time() - start\n",
    "print(\"done in %0.3fs\" % DBSCAN_run_time)"
   ]
  },
  {
   "cell_type": "code",
   "execution_count": null,
   "id": "dd214fe0",
   "metadata": {},
   "outputs": [],
   "source": [
    "DBSCAN_scores = evaluation(y_test,DBSCAN_y_pred,y_pred_proba=np.array([]))"
   ]
  },
  {
   "cell_type": "markdown",
   "id": "15cda805",
   "metadata": {},
   "source": [
    "* #### Using Bayesian Hyperparameter Optimization Tuning:"
   ]
  },
  {
   "cell_type": "code",
   "execution_count": null,
   "id": "127c7b51",
   "metadata": {},
   "outputs": [],
   "source": [
    "N_FOLDS = 10\n",
    "MAX_EVALS = 25\n",
    "space = {\n",
    "    'eps' : hp.choice('eps', [0.3,eps,1.0,1.5,2.0]),\n",
    "    'min_samples' : hp.choice('min_samples', [8,16,20,24,32]),\n",
    "}"
   ]
  },
  {
   "cell_type": "code",
   "execution_count": null,
   "id": "b6c9140b",
   "metadata": {},
   "outputs": [],
   "source": [
    "def score_function(model,x, y):\n",
    "    model = model.fit(x)\n",
    "    labels = model.labels_\n",
    "    anom_index = np.where(labels == -1)[0]\n",
    "    y_pred = np.zeros(shape=y.shape)\n",
    "    y_pred[anom_index]=1\n",
    "    score = f1_score(y, y_pred, pos_label=1,average='binary') \n",
    "    return score"
   ]
  },
  {
   "cell_type": "code",
   "execution_count": null,
   "id": "bc234a22",
   "metadata": {},
   "outputs": [],
   "source": [
    "scaler = StandardScaler()\n",
    "x = scaler.fit_transform(x_train)\n",
    "y = y_train.to_numpy()"
   ]
  },
  {
   "cell_type": "code",
   "execution_count": null,
   "id": "21eb36b9",
   "metadata": {},
   "outputs": [],
   "source": [
    "def objective(params, n_folds = N_FOLDS):\n",
    "    \"\"\"Objective function for DBSCAN Hyperparameter Tuning\"\"\"\n",
    "    start = time.time()\n",
    "    model = DBSCAN(**params)\n",
    "    cv = RepeatedStratifiedKFold(n_splits=10, n_repeats=1, random_state=1)\n",
    "    scores = cross_val_score(model, x, y, cv=cv, scoring=score_function)  \n",
    "    # Extract the best score\n",
    "    best_score = max(scores)\n",
    "    # Loss must be minimized\n",
    "    loss = 1 - best_score\n",
    "    run_time = time.time()-start\n",
    "    \n",
    "    return {'loss': loss, 'params': params,'best_score':best_score,\n",
    "            'train_time': run_time, 'status': STATUS_OK}"
   ]
  },
  {
   "cell_type": "code",
   "execution_count": null,
   "id": "94821d83",
   "metadata": {},
   "outputs": [],
   "source": [
    "'''The tuning time consumed 2185.091s'''\n",
    "\n",
    "# Tree Parzen Estimators Algorithm\n",
    "tpe_algorithm = tpe.suggest\n",
    "\n",
    "# Trials object to track progress\n",
    "DB_bayes_trials = Trials()\n",
    "\n",
    "# Optimize\n",
    "best_parms = fmin(fn = objective, space = space, algo = tpe.suggest,\n",
    "                  max_evals = MAX_EVALS, trials = DB_bayes_trials)"
   ]
  },
  {
   "cell_type": "code",
   "execution_count": null,
   "id": "a35e9b58",
   "metadata": {},
   "outputs": [],
   "source": [
    "# Sort the trials results by lowest loss (highest F-score) first\n",
    "DB_bayes_trials_results = sorted(DB_bayes_trials.results, key = lambda x: x['loss'])\n",
    "DB_best_params = DB_bayes_trials_results[0]['params']\n",
    "print(\"Best parameters\",DB_best_params)\n",
    "print(\"The tuning time consumed %0.3fs\" % DB_bayes_trials_results[0]['train_time'])"
   ]
  },
  {
   "cell_type": "markdown",
   "id": "14e4c477",
   "metadata": {},
   "source": [
    "* #### Evaluate DBSCAN model with the bayesian optimization's best parameters:"
   ]
  },
  {
   "cell_type": "code",
   "execution_count": null,
   "id": "77c834d2",
   "metadata": {},
   "outputs": [],
   "source": [
    "DBSCAN_best_params={'eps': 1.5, 'min_samples': 32}\n",
    "\n",
    "scale = StandardScaler()\n",
    "scale_x_train = scale.fit_transform(x_train)\n",
    "scale_x_test= scale.transform(x_test)\n",
    "\n",
    "start =time.time()\n",
    "DBSCAN_model = DBSCAN(**DBSCAN_best_params).fit(scale_x_train)\n",
    "labels = DBSCAN_model.fit_predict(scale_x_test)\n",
    "anom_index = np.where(labels == -1)[0]\n",
    "DBSCAN_y_pred = np.zeros(shape=y_test.shape)\n",
    "DBSCAN_y_pred[anom_index]= 1\n",
    "DBSCAN_run_time = time.time() - start\n",
    "print(\"done in %0.3fs\" % DBSCAN_run_time)"
   ]
  },
  {
   "cell_type": "code",
   "execution_count": null,
   "id": "d4c8a2ad",
   "metadata": {},
   "outputs": [],
   "source": [
    "DBSCAN_scores = evaluation(y_test,DBSCAN_y_pred,y_pred_proba=np.array([]))"
   ]
  },
  {
   "cell_type": "markdown",
   "id": "aa1eff09",
   "metadata": {},
   "source": [
    "### Evaluate DBSCAN model with the heuristics parameters:"
   ]
  },
  {
   "cell_type": "code",
   "execution_count": 25,
   "id": "ed9101b0",
   "metadata": {},
   "outputs": [
    {
     "name": "stdout",
     "output_type": "stream",
     "text": [
      "done in 66.123s\n"
     ]
    }
   ],
   "source": [
    "scale = StandardScaler()\n",
    "scale_x_train = scale.fit_transform(x_train)\n",
    "scale_x_test= scale.transform(x_test)\n",
    "DBSCAN_best_params={'eps': eps, 'min_samples': 16}\n",
    "start =time.time()\n",
    "DBSCAN_model = DBSCAN(**DBSCAN_best_params).fit(scale_x_train)\n",
    "labels = DBSCAN_model.fit_predict(scale_x_test)\n",
    "anom_index = np.where(labels == -1)[0]\n",
    "DBSCAN_y_pred = np.zeros(shape=y_test.shape)\n",
    "DBSCAN_y_pred[anom_index]= 1\n",
    "DBSCAN_run_time = time.time() - start\n",
    "print(\"done in %0.3fs\" % DBSCAN_run_time)"
   ]
  },
  {
   "cell_type": "code",
   "execution_count": 26,
   "id": "90de6160",
   "metadata": {},
   "outputs": [
    {
     "data": {
      "image/png": "[encoded data removed]",
      "text/plain": [
       "<Figure size 432x288 with 2 Axes>"
      ]
     },
     "metadata": {
      "needs_background": "light"
     },
     "output_type": "display_data"
    },
    {
     "name": "stdout",
     "output_type": "stream",
     "text": [
      "\n",
      "Sensitivity = Recall 0.921 \n",
      "Specificity  0.896 \n",
      "G_mean  0.908\n",
      "\n",
      " False positive rate 0.104\n",
      "\n",
      " True positive Rate  0.921\n",
      "\n",
      " F2-score 0.587\n",
      "\n",
      "\n",
      "\n",
      " The classification_report\n",
      "              precision    recall  f1-score   support\n",
      "\n",
      "           0       1.00      0.90      0.94    101649\n",
      "           1       0.24      0.92      0.38      3615\n",
      "\n",
      "    accuracy                           0.90    105264\n",
      "   macro avg       0.62      0.91      0.66    105264\n",
      "weighted avg       0.97      0.90      0.92    105264\n",
      "\n"
     ]
    }
   ],
   "source": [
    "DBSCAN_scores = evaluation(y_test,DBSCAN_y_pred,y_pred_proba=np.array([]))"
   ]
  },
  {
   "cell_type": "markdown",
   "id": "6de40c19",
   "metadata": {},
   "source": [
    "# ================================================"
   ]
  },
  {
   "cell_type": "markdown",
   "id": "6aeb0fc5",
   "metadata": {},
   "source": [
    "# Ensemble Random Forest Classifier:"
   ]
  },
  {
   "cell_type": "markdown",
   "id": "aecf1954",
   "metadata": {},
   "source": [
    "### Training models comparison: "
   ]
  },
  {
   "cell_type": "markdown",
   "id": "b530e904",
   "metadata": {},
   "source": [
    "The comparison based on mean F1-score, and runing time of training set.\n",
    "\n",
    "- Standard Random Forest model.\n",
    "- Standard Random Forest model with SMOTEENN resampling.\n",
    "- Random Forest model with class weighting.\n",
    "- Random Forest model with SMOTEENN resampling and class weighting.\n",
    "- Random Forest model with Bootstrap class weighting.\n",
    "- Random Forest model with SMOTEENN resampling and Bootstrap class weighting.\n",
    "- Random Forest model with Random Undersampling."
   ]
  },
  {
   "cell_type": "code",
   "execution_count": null,
   "id": "78abfd8f",
   "metadata": {},
   "outputs": [],
   "source": [
    "start = time.time()\n",
    "model = RandomForestClassifier(n_estimators=100,random_state=4)\n",
    "cv = RepeatedStratifiedKFold(n_splits=10, n_repeats=3, random_state=1)\n",
    "scores = cross_val_score(model, x_train, y_train, scoring='f1', cv=cv) \n",
    "print('Mean F1_score: %.3f' % np.mean(scores))\n",
    "print(\"Standard Random Forest Classifier with original data is done in %0.2fs\" % (time.time() - start))"
   ]
  },
  {
   "cell_type": "code",
   "execution_count": null,
   "id": "70d56f3e",
   "metadata": {},
   "outputs": [],
   "source": [
    "start = time.time()\n",
    "model_0 = RandomForestClassifier(n_estimators=100,random_state=4)\n",
    "cv = RepeatedStratifiedKFold(n_splits=10, n_repeats=3, random_state=1)\n",
    "scores = cross_val_score(model_0, resample_x, resample_y, scoring='f1', cv=cv) \n",
    "print('Mean F1_score: %.3f' % np.mean(scores))\n",
    "print(\"Standard Random Forest Classifier with resampled data is done in %0.2fs\" % (time.time() - start))"
   ]
  },
  {
   "cell_type": "code",
   "execution_count": null,
   "id": "15df02de",
   "metadata": {},
   "outputs": [],
   "source": [
    "start = time.time()\n",
    "model_1 = RandomForestClassifier(n_estimators=100, class_weight='balanced',random_state=4)\n",
    "cv = RepeatedStratifiedKFold(n_splits=10, n_repeats=3, random_state=1)\n",
    "scores = cross_val_score(model_1, x_train, y_train, scoring='f1', cv=cv) \n",
    "print('Mean F1_score: %.3f' % np.mean(scores))\n",
    "print(\"Random Forest Classifier with original data is done in %0.2fs\" % (time.time() - start))"
   ]
  },
  {
   "cell_type": "code",
   "execution_count": null,
   "id": "380780d3",
   "metadata": {},
   "outputs": [],
   "source": [
    "start = time.time()\n",
    "model_2 = RandomForestClassifier(n_estimators=100, class_weight='balanced',random_state=4)\n",
    "cv = RepeatedStratifiedKFold(n_splits=10, n_repeats=3, random_state=1)\n",
    "scores = cross_val_score(model_2, resample_x, resample_y, scoring='f1', cv=cv) \n",
    "print('Mean F1_score: %.3f' % np.mean(scores))\n",
    "print(\"Random Forest Classifier with resampled data is done in %0.2fs\" % (time.time() - start))"
   ]
  },
  {
   "cell_type": "code",
   "execution_count": null,
   "id": "c60843c2",
   "metadata": {},
   "outputs": [],
   "source": [
    "start = time.time()\n",
    "model_3 = RandomForestClassifier(n_estimators=100, class_weight='balanced_subsample',random_state=4)\n",
    "cv = RepeatedStratifiedKFold(n_splits=10, n_repeats=3, random_state=1)\n",
    "scores = cross_val_score(model_3, x_train, y_train, scoring='f1', cv=cv)\n",
    "print('Mean F1_score: %.3f' % np.mean(scores))\n",
    "print(\"Random Forest Classifier with original data and Bootstrap Class Weighting is done in %0.2fs\" % (time.time() - start))"
   ]
  },
  {
   "cell_type": "code",
   "execution_count": null,
   "id": "803df1d6",
   "metadata": {},
   "outputs": [],
   "source": [
    "start = time.time()\n",
    "model_4 = RandomForestClassifier(n_estimators=100, class_weight='balanced_subsample',random_state=4)\n",
    "cv = RepeatedStratifiedKFold(n_splits=10, n_repeats=3, random_state=1)\n",
    "scores = cross_val_score(model_4, resample_x, resample_y, scoring='f1', cv=cv)\n",
    "print('Mean F1_score: %.3f' % np.mean(scores))\n",
    "print(\"Random Forest Classifier with resampeld data and bootstrap is done in %0.2fs\" % (time.time() - start))"
   ]
  },
  {
   "cell_type": "code",
   "execution_count": null,
   "id": "a8fb545f",
   "metadata": {},
   "outputs": [],
   "source": [
    "start = time.time()\n",
    "model_5 = BalancedRandomForestClassifier(n_estimators=100,random_state=4)\n",
    "cv = RepeatedStratifiedKFold(n_splits=10, n_repeats=3, random_state=1)\n",
    "scores = cross_val_score(model_5, x_train, y_train, scoring='f1', cv=cv)\n",
    "print('Mean F1_score: %.3f' % np.mean(scores))\n",
    "print(\"Random Forest Classifier with Random Undersampling is done in %0.2fs\" % (time.time() - start))"
   ]
  },
  {
   "cell_type": "markdown",
   "id": "c099696d",
   "metadata": {},
   "source": [
    "### Hyperparameter Tuning for Random Forest:"
   ]
  },
  {
   "cell_type": "code",
   "execution_count": null,
   "id": "73f2ed66",
   "metadata": {},
   "outputs": [],
   "source": [
    "N_FOLDS = 10\n",
    "MAX_EVALS = 25\n",
    "space = {\n",
    "    'n_estimators' : hp.choice('n_estimators', [10,50,100]),\n",
    "    'criterion' : hp.choice('criterion', ['gini','entropy']),\n",
    "    'max_depth' : hp.choice('max_depth', [None,3,9,12]),\n",
    "    'min_samples_split' : hp.choice('min_samples_split',[2,10,20]),\n",
    "    'min_samples_leaf' : hp.choice('min_samples_leaf',[1,10,20]),\n",
    "    'max_features' : hp.choice('max_features',['sqrt', 'log2']),\n",
    "    'class_weight' : hp.choice('class_weight',['balanced', 'balanced_subsample'])\n",
    "}"
   ]
  },
  {
   "cell_type": "code",
   "execution_count": null,
   "id": "b640fa8c",
   "metadata": {},
   "outputs": [],
   "source": [
    "def objective(params, n_folds = N_FOLDS):\n",
    "    \"\"\"Objective function for Random Forest Hyperparameter Tuning\"\"\"\n",
    "    start = time.time()\n",
    "    RF_model = RandomForestClassifier(**params,random_state=4)\n",
    "    cv = RepeatedStratifiedKFold(n_splits=10, n_repeats=3, random_state=1)\n",
    "    scores = cross_val_score(RF_model, resample_x, resample_y, cv=cv, scoring='f1')  \n",
    "    # Extract the best score\n",
    "    best_score = max(scores)\n",
    "    # Loss must be minimized\n",
    "    loss = 1 - best_score\n",
    "    run_time = time.time()-start\n",
    "    \n",
    "    return {'loss': loss, 'params': params,'best_score':best_score,\n",
    "            'train_time': run_time, 'status': STATUS_OK}"
   ]
  },
  {
   "cell_type": "code",
   "execution_count": null,
   "id": "05ce14d7",
   "metadata": {},
   "outputs": [],
   "source": [
    "'''The tuning time consumed  16600.093s'''\n",
    "# Tree Parzen Estimators Algorithm\n",
    "tpe_algorithm = tpe.suggest\n",
    "\n",
    "# Trials object to track progress\n",
    "RF_bayes_trials = Trials()\n",
    "\n",
    "# Optimize\n",
    "best_parms = fmin(fn = objective, space = space, algo = tpe.suggest,\n",
    "                  max_evals = MAX_EVALS, trials = RF_bayes_trials)"
   ]
  },
  {
   "cell_type": "code",
   "execution_count": null,
   "id": "43a63530",
   "metadata": {},
   "outputs": [],
   "source": [
    "# Sort the trials results by lowest loss (highest F-score) first\n",
    "RF_bayes_trials_results = sorted(RF_bayes_trials.results, key = lambda x: x['loss'])\n",
    "RF_best_params = RF_bayes_trials_results[0]['params']\n",
    "print(\"Best parameters\",RF_best_params)\n",
    "print(\"The train time consumed %0.3fs\" % RF_bayes_trials_results[0]['train_time'])"
   ]
  },
  {
   "cell_type": "code",
   "execution_count": null,
   "id": "d6d84149",
   "metadata": {},
   "outputs": [],
   "source": [
    "RF_all_time = sum([RF_bayes_trials_results[i]['train_time'] for i in range(len(RF_bayes_trials_results))])\n",
    "print(\"The tuning time consumed %0.3fs\" % RF_all_time)"
   ]
  },
  {
   "cell_type": "markdown",
   "id": "13759903",
   "metadata": {},
   "source": [
    "#### Evaluate Random Forest model with the bayesian optimization's best parameters:"
   ]
  },
  {
   "cell_type": "code",
   "execution_count": 27,
   "id": "aa2b096b",
   "metadata": {},
   "outputs": [
    {
     "name": "stdout",
     "output_type": "stream",
     "text": [
      "done in 51.874s\n"
     ]
    }
   ],
   "source": [
    "RF_params = {'class_weight': 'balanced_subsample', 'criterion': 'entropy', 'max_depth': None,\n",
    "             'max_features': 'log2', 'min_samples_leaf': 1, 'min_samples_split': 2, 'n_estimators': 100}\n",
    "start =time.time()\n",
    "RF_model = RandomForestClassifier(**RF_params).fit(resample_x,resample_y)\n",
    "RF_y_pred =RF_model.predict(x_test)\n",
    "RF_y_pred_proba=RF_model.predict_proba(x_test)[::,1]\n",
    "RF_run_time = time.time() - start\n",
    "print(\"done in %0.3fs\" % RF_run_time)"
   ]
  },
  {
   "cell_type": "code",
   "execution_count": 28,
   "id": "b54caed0",
   "metadata": {},
   "outputs": [
    {
     "data": {
      "image/png": "[encoded data removed]",
      "text/plain": [
       "<Figure size 432x288 with 2 Axes>"
      ]
     },
     "metadata": {
      "needs_background": "light"
     },
     "output_type": "display_data"
    },
    {
     "name": "stdout",
     "output_type": "stream",
     "text": [
      "\n",
      "Sensitivity = Recall 0.973 \n",
      "Specificity  0.975 \n",
      "G_mean  0.974\n",
      "\n",
      " False positive rate 0.025\n",
      "\n",
      " True positive Rate  0.973\n",
      "\n",
      " F2-score 0.856\n",
      "\n",
      "\n",
      "\n",
      " The classification_report\n",
      "              precision    recall  f1-score   support\n",
      "\n",
      "           0       1.00      0.97      0.99    101649\n",
      "           1       0.58      0.97      0.73      3615\n",
      "\n",
      "    accuracy                           0.97    105264\n",
      "   macro avg       0.79      0.97      0.86    105264\n",
      "weighted avg       0.98      0.97      0.98    105264\n",
      "\n",
      "\n",
      " ROC curve + AUC score\n"
     ]
    },
    {
     "data": {
      "image/png": "[encoded data removed]",
      "text/plain": [
       "<Figure size 432x288 with 1 Axes>"
      ]
     },
     "metadata": {
      "needs_background": "light"
     },
     "output_type": "display_data"
    }
   ],
   "source": [
    "RF_scores = evaluation(y_test,RF_y_pred,RF_y_pred_proba)"
   ]
  },
  {
   "cell_type": "markdown",
   "id": "6dbf6d80",
   "metadata": {},
   "source": [
    "# ============================================="
   ]
  },
  {
   "cell_type": "markdown",
   "id": "b6d9087d",
   "metadata": {},
   "source": [
    "# Isolation Forest:"
   ]
  },
  {
   "cell_type": "markdown",
   "id": "3d195681",
   "metadata": {},
   "source": [
    "### Training models comparison: \n",
    "\n",
    "The comparison based on mean F1-score, and runing time of training set.\n",
    "\n",
    "- Isolation Forest model with the original data.\n",
    "- Isolation Forest model with majority class only.\n"
   ]
  },
  {
   "cell_type": "code",
   "execution_count": 29,
   "id": "7e205e1d",
   "metadata": {},
   "outputs": [],
   "source": [
    "'''We split the data to a train and validat sets'''\n",
    "train_X, val_X, train_y, val_y = train_test_split(x_train, y_train, test_size=0.75, random_state=4, stratify=y_train)\n",
    "'''To fit the model on majority class only'''\n",
    "major_X = train_X[train_y == 0]"
   ]
  },
  {
   "cell_type": "code",
   "execution_count": null,
   "id": "6f388c40",
   "metadata": {},
   "outputs": [],
   "source": [
    "start = time.time()\n",
    "model_1 = IsolationForest(contamination=0.01,random_state=4).fit(train_X)\n",
    "y_pred = model_1.predict(val_X)\n",
    "''' We change the labels of the predicted set  to 0s and 1s before evaluating, since\n",
    "the model will predict an inlier with a label of +1 and an outlier with a label of -1'''\n",
    "y_pred[y_pred==1]=0\n",
    "y_pred[y_pred==-1]=1\n",
    "\n",
    "score = f1_score(val_y, y_pred, pos_label=1,average='binary') \n",
    "print('F-measure: %.3f' % score)\n",
    "print(\"Isolation Forest with original data is done in %0.2fs\" % (time.time() - start))"
   ]
  },
  {
   "cell_type": "code",
   "execution_count": null,
   "id": "1578690e",
   "metadata": {},
   "outputs": [],
   "source": [
    "start = time.time()\n",
    "model_2 = IsolationForest(contamination=0.01,random_state=4).fit(major_X)\n",
    "y_pred = model_2.predict(val_X)\n",
    "y_pred[y_pred==1]=0\n",
    "y_pred[y_pred==-1]=1\n",
    "\n",
    "score = f1_score(val_y, y_pred, pos_label=1,average='binary') \n",
    "print('F-measure: %.3f' % score)\n",
    "print(\"Isolation Forest with majority class is done in %0.2fs\" % (time.time() - start))"
   ]
  },
  {
   "cell_type": "markdown",
   "id": "85acae7e",
   "metadata": {},
   "source": [
    "### Hyperparameter Tuning for Isolation Forest:"
   ]
  },
  {
   "cell_type": "code",
   "execution_count": null,
   "id": "f454d29e",
   "metadata": {},
   "outputs": [],
   "source": [
    "N_FOLDS = 10\n",
    "MAX_EVALS = 25\n",
    "space = {\n",
    "    'n_estimators' : hp.choice('n_estimators', [50,100,150,200]),\n",
    "    'max_samples' : hp.choice('max_samples', ['auto',0.25,0.5,0.75,0.9]),\n",
    "    'contamination' : hp.choice('contamination', ['auto',0.001,0.01,0.1,0.5]),\n",
    "    'max_features' : hp.choice('max_features',[1,3,8]),\n",
    "    'bootstrap' : hp.choice('bootstrap',[True,False])\n",
    "}"
   ]
  },
  {
   "cell_type": "code",
   "execution_count": null,
   "id": "c75f95f1",
   "metadata": {},
   "outputs": [],
   "source": [
    "def score_function(model,x, y):\n",
    "    model = model.fit(x)\n",
    "    y_pred = model.fit_predict(x)\n",
    "    y_pred[y_pred==1]=0\n",
    "    y_pred[y_pred==-1]=1\n",
    "    score = f1_score(y, y_pred, pos_label=1,average='binary') \n",
    "    return score"
   ]
  },
  {
   "cell_type": "code",
   "execution_count": null,
   "id": "60ca305c",
   "metadata": {},
   "outputs": [],
   "source": [
    "def objective(params, n_folds = N_FOLDS):\n",
    "    \"\"\"Objective function for Isolation Forest Hyperparameter Tuning\"\"\"\n",
    "    start = time.time()\n",
    "    IF_model = IsolationForest(**params,random_state=4)\n",
    "    cv = RepeatedStratifiedKFold(n_splits=10, n_repeats=3, random_state=1)\n",
    "    scores = cross_val_score(IF_model, x_train, y_train, cv=cv, scoring=score_function)  \n",
    "    # Extract the best score\n",
    "    best_score = max(scores)\n",
    "    # Loss must be minimized\n",
    "    loss = 1 - best_score\n",
    "    run_time = time.time()-start\n",
    "    \n",
    "    return {'loss': loss, 'params': params,'best_score':best_score,\n",
    "            'train_time': run_time, 'status': STATUS_OK}"
   ]
  },
  {
   "cell_type": "code",
   "execution_count": null,
   "id": "ad89de37",
   "metadata": {},
   "outputs": [],
   "source": [
    "'''The tuning time consumed 8718.364s'''\n",
    "\n",
    "# Tree Parzen Estimators Algorithm\n",
    "tpe_algorithm = tpe.suggest\n",
    "\n",
    "# Trials object to track progress\n",
    "IF_bayes_trials = Trials()\n",
    "\n",
    "# Optimize\n",
    "best_parms = fmin(fn = objective, space = space, algo = tpe.suggest,\n",
    "                  max_evals = MAX_EVALS, trials = IF_bayes_trials)"
   ]
  },
  {
   "cell_type": "code",
   "execution_count": null,
   "id": "b10c2a21",
   "metadata": {},
   "outputs": [],
   "source": [
    "# Sort the trials results by lowest loss (highest F-score) first\n",
    "IF_bayes_trials_results = sorted(IF_bayes_trials.results, key = lambda x: x['loss'])\n",
    "IF_best_params = IF_bayes_trials_results[0]['params']\n",
    "print(\"Best parameters\",IF_best_params)\n",
    "print(\"The train time consumed %0.3fs\" % IF_bayes_trials_results[0]['train_time'])"
   ]
  },
  {
   "cell_type": "code",
   "execution_count": null,
   "id": "59ad1c4d",
   "metadata": {},
   "outputs": [],
   "source": [
    "IF_all_time = sum([IF_bayes_trials_results[i]['train_time'] for i in range(len(IF_bayes_trials_results))])\n",
    "print(\"The tuning time consumed %0.3fs\" % IF_all_time)"
   ]
  },
  {
   "cell_type": "markdown",
   "id": "6f0dd511",
   "metadata": {},
   "source": [
    "#### Evaluate Isolation Forest model with the bayesian optimization's best parameters:"
   ]
  },
  {
   "cell_type": "code",
   "execution_count": 30,
   "id": "bb63bb4a",
   "metadata": {},
   "outputs": [
    {
     "name": "stdout",
     "output_type": "stream",
     "text": [
      "done in 18.977s\n"
     ]
    }
   ],
   "source": [
    "IF_params = {'bootstrap': False, 'contamination': 0.1, 'max_features': 3, 'max_samples': 0.25, 'n_estimators': 100}\n",
    "major_x = x_train[y_train == 0]\n",
    "start =time.time()\n",
    "IF_model = IsolationForest(**IF_params,random_state=4).fit(major_x)\n",
    "IF_y_pred = IF_model.predict(x_test)\n",
    "IF_y_pred[IF_y_pred==1]=0\n",
    "IF_y_pred[IF_y_pred==-1]=1\n",
    "IF_y_pred_score= 1-IF_model.score_samples(x_test)\n",
    "IF_run_time = time.time() - start\n",
    "print(\"done in %0.3fs\" % IF_run_time)"
   ]
  },
  {
   "cell_type": "code",
   "execution_count": 31,
   "id": "763bc571",
   "metadata": {},
   "outputs": [
    {
     "data": {
      "image/png": "[encoded data removed]",
      "text/plain": [
       "<Figure size 432x288 with 2 Axes>"
      ]
     },
     "metadata": {
      "needs_background": "light"
     },
     "output_type": "display_data"
    },
    {
     "name": "stdout",
     "output_type": "stream",
     "text": [
      "\n",
      "Sensitivity = Recall 0.926 \n",
      "Specificity  0.895 \n",
      "G_mean  0.91\n",
      "\n",
      " False positive rate 0.105\n",
      "\n",
      " True positive Rate  0.926\n",
      "\n",
      " F2-score 0.588\n",
      "\n",
      "\n",
      "\n",
      " The classification_report\n",
      "              precision    recall  f1-score   support\n",
      "\n",
      "           0       1.00      0.90      0.94    101649\n",
      "           1       0.24      0.93      0.38      3615\n",
      "\n",
      "    accuracy                           0.90    105264\n",
      "   macro avg       0.62      0.91      0.66    105264\n",
      "weighted avg       0.97      0.90      0.92    105264\n",
      "\n",
      "\n",
      " ROC curve + AUC score\n"
     ]
    },
    {
     "data": {
      "image/png": "[encoded data removed]",
      "text/plain": [
       "<Figure size 432x288 with 1 Axes>"
      ]
     },
     "metadata": {
      "needs_background": "light"
     },
     "output_type": "display_data"
    }
   ],
   "source": [
    "IF_scores = evaluation(y_test,IF_y_pred,IF_y_pred_score)\n"
   ]
  },
  {
   "cell_type": "markdown",
   "id": "6112ccda",
   "metadata": {},
   "source": [
    "# ======================================="
   ]
  },
  {
   "cell_type": "markdown",
   "id": "bfa4c6ad",
   "metadata": {},
   "source": [
    "# Models' results:"
   ]
  },
  {
   "cell_type": "code",
   "execution_count": 32,
   "id": "d0b51ae4",
   "metadata": {},
   "outputs": [
    {
     "name": "stdout",
     "output_type": "stream",
     "text": [
      "Model                | Sensitivity     | Specificity     | G_mean         \n",
      "Logistic Regression  | 0.911           | 0.932           | 0.921          \n",
      "DBSCAN               | 0.921           | 0.896           | 0.908          \n",
      "Random Forest        | 0.973           | 0.975           | 0.974          \n",
      "Isolation Forest     | 0.926           | 0.895           | 0.91           \n"
     ]
    }
   ],
   "source": [
    "Models = {'Logistic Regression':LR_scores,\n",
    "          'DBSCAN':DBSCAN_scores,\n",
    "          'Random Forest':RF_scores,\n",
    "          'Isolation Forest':IF_scores}\n",
    "\n",
    "print(\"{:<20} | {:<15} | {:<15} | {:<15}\".format('Model', 'Sensitivity', 'Specificity','G_mean'))\n",
    "for k,v in Models.items():\n",
    "    print(\"{:<20} | {:<15} | {:<15} | {:<15}\".format(k,v['Sensitivity'], v['Specificity'],v['G_mean']))"
   ]
  },
  {
   "cell_type": "code",
   "execution_count": 34,
   "id": "81912921",
   "metadata": {},
   "outputs": [
    {
     "data": {
      "image/png": "[encoded data removed]",
      "text/plain": [
       "<Figure size 432x288 with 1 Axes>"
      ]
     },
     "metadata": {
      "needs_background": "light"
     },
     "output_type": "display_data"
    }
   ],
   "source": [
    "F2_scores = {'Logistic Regression':LR_scores['F2-score'],\n",
    "          'DBSCAN':DBSCAN_scores['F2-score'],\n",
    "          'Random Forest':RF_scores['F2-score'],\n",
    "          'Isolation Forest':IF_scores['F2-score']}\n",
    "plt.bar(*zip(*F2_scores.items()),color='g',width = 0.25)\n",
    "#plt.title(\"F2-scores \\n\")\n",
    "#plt.xlabel('Data class',fontsize=15)\n",
    "plt.ylabel('F2-scores',fontsize=15)\n",
    "#plt.rc('xtick', labelsize=15) \n",
    "#plt.rc('ytick', labelsize=15) \n",
    "#plt.savefig('fig22.pdf')\n",
    "plt.show()"
   ]
  },
  {
   "cell_type": "markdown",
   "id": "8ea8b079",
   "metadata": {},
   "source": [
    "#### Note:\n",
    "The scores below are weighted scores, which means we calculate metrics for each label, \n",
    "and find their average weighted by support (the number of true instances for each label)."
   ]
  },
  {
   "cell_type": "code",
   "execution_count": 35,
   "id": "0dac4240",
   "metadata": {},
   "outputs": [
    {
     "name": "stdout",
     "output_type": "stream",
     "text": [
      "Model                | Recall          | Precision       | F1-score       \n",
      "Logistic Regression  | 0.931           | 0.973           | 0.946          \n",
      "DBSCAN               | 0.897           | 0.971           | 0.924          \n",
      "Random Forest        | 0.975           | 0.985           | 0.978          \n",
      "Isolation Forest     | 0.896           | 0.971           | 0.924          \n"
     ]
    }
   ],
   "source": [
    "print(\"{:<20} | {:<15} | {:<15} | {:<15}\".format('Model', 'Recall', 'Precision','F1-score'))\n",
    "for k,v in Models.items():\n",
    "    print(\"{:<20} | {:<15} | {:<15} | {:<15}\".format(k,v['Recall'], v['Precision'],v['F1-score']))\n",
    "    "
   ]
  },
  {
   "cell_type": "code",
   "execution_count": 39,
   "id": "ece32a0f",
   "metadata": {},
   "outputs": [
    {
     "data": {
      "image/png": "[encoded data removed]",
      "text/plain": [
       "<Figure size 432x288 with 1 Axes>"
      ]
     },
     "metadata": {
      "needs_background": "light"
     },
     "output_type": "display_data"
    }
   ],
   "source": [
    "Rates = {'Logistic Regression':{'TPR':LR_scores['Sensitivity'],'FPR':LR_scores['False_positive_rate']},\n",
    "          'DBSCAN':{'TPR':DBSCAN_scores['Sensitivity'],'FPR':DBSCAN_scores['False_positive_rate']},\n",
    "          'Random Forest':{'TPR':RF_scores['Sensitivity'],'FPR':RF_scores['False_positive_rate']},\n",
    "          'Isolation Forest':{'TPR':IF_scores['Sensitivity'],'FPR':IF_scores['False_positive_rate']}}\n",
    "\n",
    "pd.DataFrame(Rates).plot(kind='barh')\n",
    "plt.xlabel(\"Models' rate\",fontsize=15)\n",
    "#plt.rc('xtick', labelsize=15) \n",
    "#plt.rc('ytick', labelsize=15) \n",
    "#plt.title(\"True positive rate/ False positive rate for each model \\n\")\n",
    "#plt.savefig('fig23.pdf')\n",
    "plt.show()"
   ]
  },
  {
   "cell_type": "code",
   "execution_count": 40,
   "id": "5e17e0d2",
   "metadata": {},
   "outputs": [
    {
     "data": {
      "image/png": "[encoded data removed]",
      "text/plain": [
       "<Figure size 432x288 with 1 Axes>"
      ]
     },
     "metadata": {
      "needs_background": "light"
     },
     "output_type": "display_data"
    }
   ],
   "source": [
    "run_times = {'Logistic Regression':LR_run_time,\n",
    "          'DBSCAN':DBSCAN_run_time,\n",
    "          'Random Forest':RF_run_time,\n",
    "          'Isolation Forest':IF_run_time}\n",
    "plt.bar(*zip(*run_times.items()),color='y',width = 0.30)\n",
    "#plt.title(\"Models' running time\")\n",
    "plt.ylabel(\"Models' running time\",fontsize=15)\n",
    "#plt.rc('xtick', labelsize=15) \n",
    "#plt.rc('ytick', labelsize=15) \n",
    "#plt.savefig('fig25.pdf')\n",
    "plt.show()"
   ]
  },
  {
   "cell_type": "code",
   "execution_count": 42,
   "id": "df19365a",
   "metadata": {},
   "outputs": [
    {
     "data": {
      "image/png": "[encoded data removed]",
      "text/plain": [
       "<Figure size 432x288 with 1 Axes>"
      ]
     },
     "metadata": {
      "needs_background": "light"
     },
     "output_type": "display_data"
    }
   ],
   "source": [
    "curves = {'Random Forest':[RF_y_pred,RF_y_pred_proba],\n",
    "          'Logistic Regression':[LR_y_pred,LR_y_pred_proba],\n",
    "          'Isolation Forest':[IF_y_pred,IF_y_pred_score]}\n",
    "for k,v in curves.items():\n",
    "    fpr, tpr, _ = roc_curve(y_test, v[1])\n",
    "    roc_auc = round(roc_auc_score(y_test, v[1]),3)\n",
    "    plt.plot(fpr,tpr,label=k+\" AUC=\"+str(roc_auc),marker='.')\n",
    "plt.xlabel('FPR',fontsize=15)\n",
    "plt.ylabel('TPR',fontsize=15)\n",
    "plt.legend(fontsize=\"large\")\n",
    "#plt.title(\" ROC Curve and AUC score\")\n",
    "#plt.rc('xtick', labelsize=15) \n",
    "#plt.rc('ytick', labelsize=15) \n",
    "#plt.savefig('fig24.pdf')\n",
    "plt.show()"
   ]
  },
  {
   "cell_type": "markdown",
   "id": "e5e3e428",
   "metadata": {},
   "source": [
    "# ========================================="
   ]
  }
 ],
 "metadata": {
  "kernelspec": {
   "display_name": "py39",
   "language": "python",
   "name": "py39"
  },
  "language_info": {
   "codemirror_mode": {
    "name": "ipython",
    "version": 3
   },
   "file_extension": ".py",
   "mimetype": "text/x-python",
   "name": "python",
   "nbconvert_exporter": "python",
   "pygments_lexer": "ipython3",
   "version": "3.9.6"
  }
 },
 "nbformat": 4,
 "nbformat_minor": 5
}

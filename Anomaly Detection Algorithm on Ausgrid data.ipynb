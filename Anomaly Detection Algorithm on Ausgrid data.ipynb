{
 "cells": [
  {
   "cell_type": "code",
   "execution_count": null,
   "id": "8bd0034c",
   "metadata": {
    "scrolled": true
   },
   "outputs": [],
   "source": [
    "import pandas as pd\n",
    "import numpy as np\n",
    "from pandas.tseries.offsets import Day\n",
    "import matplotlib.pyplot as plt\n",
    "import pgeocode\n",
    "import plotly.express as px\n",
    "import seaborn as sns\n",
    "from calendar import day_abbr, month_abbr, mdays\n",
    "import holidays"
   ]
  },
  {
   "cell_type": "code",
   "execution_count": null,
   "id": "0019e1a3",
   "metadata": {
    "scrolled": true
   },
   "outputs": [],
   "source": [
    "%matplotlib inline"
   ]
  },
  {
   "cell_type": "markdown",
   "id": "84f28ba0",
   "metadata": {},
   "source": [
    "# Load Solar home electricity datasets:"
   ]
  },
  {
   "cell_type": "markdown",
   "id": "e4f53a73",
   "metadata": {},
   "source": [
    "* In our project, we'll use two data sets of Solar home electricity for two years, (2011-2012) and (2012-2013)"
   ]
  },
  {
   "cell_type": "code",
   "execution_count": null,
   "id": "dc5d0a5d",
   "metadata": {
    "scrolled": true
   },
   "outputs": [],
   "source": [
    "df_1 = pd.read_csv('2011-2012 Solar home electricity data v2.csv', skiprows=1,\n",
    "                    parse_dates=['date'], dayfirst=True,\n",
    "                    na_filter=False, dtype={'Row Quality': str})\n",
    "df_1.tail()"
   ]
  },
  {
   "cell_type": "code",
   "execution_count": null,
   "id": "d1c68d55",
   "metadata": {
    "scrolled": true
   },
   "outputs": [],
   "source": [
    "df_2 = pd.read_csv('2012-2013 Solar home electricity data v2.csv', skiprows=1,\n",
    "                    parse_dates=['date'], dayfirst=True,\n",
    "                    na_filter=False, dtype={'Row Quality': str})\n",
    "df_2.tail()"
   ]
  },
  {
   "cell_type": "markdown",
   "id": "39236610",
   "metadata": {},
   "source": [
    "### Check the missing values:\n",
    "\n",
    "First, we'll drop all Non-Actual values using the Row Quality feature as it has two values:\n",
    "* Row Quality is (Blank) which means every half-hour value in the row is the actual electricity recorded by the meter in the half-hour.\n",
    "* Row Quality is NA that means Non-Actual where some or all of the half-hour values in the row are estimates or substitutes of the electricity consumed or generated."
   ]
  },
  {
   "cell_type": "code",
   "execution_count": null,
   "id": "f79f513f",
   "metadata": {
    "scrolled": true
   },
   "outputs": [],
   "source": [
    "print(df_1['Row Quality'].value_counts())\n",
    "df_1.drop(df_1[df_1['Row Quality'] == 'NA'].index, inplace=True)"
   ]
  },
  {
   "cell_type": "code",
   "execution_count": null,
   "id": "eaf7ff80",
   "metadata": {
    "scrolled": true
   },
   "outputs": [],
   "source": [
    "df_1['Row Quality'].value_counts()"
   ]
  },
  {
   "cell_type": "code",
   "execution_count": null,
   "id": "40644f96",
   "metadata": {
    "scrolled": true
   },
   "outputs": [],
   "source": [
    "print(df_2['Row Quality'].value_counts())\n",
    "df_2.drop(df_2[df_2['Row Quality'] == 'NA'].index, inplace=True)"
   ]
  },
  {
   "cell_type": "code",
   "execution_count": null,
   "id": "ee87c936",
   "metadata": {
    "scrolled": true
   },
   "outputs": [],
   "source": [
    "df_2['Row Quality'].value_counts()"
   ]
  },
  {
   "cell_type": "markdown",
   "id": "3ac7958d",
   "metadata": {},
   "source": [
    "Second, we'll check if the data frames has any other missing (null) values."
   ]
  },
  {
   "cell_type": "code",
   "execution_count": null,
   "id": "1c5ff6a9",
   "metadata": {
    "scrolled": false
   },
   "outputs": [],
   "source": [
    "df_1.isnull().sum()"
   ]
  },
  {
   "cell_type": "code",
   "execution_count": null,
   "id": "a6a04246",
   "metadata": {
    "scrolled": false
   },
   "outputs": [],
   "source": [
    "df_2.isnull().sum()"
   ]
  },
  {
   "cell_type": "markdown",
   "id": "a8b4f008",
   "metadata": {},
   "source": [
    "* Note, we'll keep all Zeros values in General Consumption since it's ilogical for general power consumption to be zero, which indicates Abnormal behaviour in the data. "
   ]
  },
  {
   "cell_type": "code",
   "execution_count": null,
   "id": "de401d0b",
   "metadata": {
    "scrolled": false
   },
   "outputs": [],
   "source": [
    "df_1[df_1['Consumption Category']=='GC'].eq(0).sum()\n",
    "df_2[df_2['Consumption Category']=='GC'].eq(0).sum()"
   ]
  },
  {
   "cell_type": "markdown",
   "id": "3406cd70",
   "metadata": {},
   "source": [
    "# Explor and prepare the datasets:"
   ]
  },
  {
   "cell_type": "markdown",
   "id": "cecf5fe4",
   "metadata": {},
   "source": [
    "* First, we'll explore the postcodes of the costumers.\n",
    "* Second, we'll create a new dataset, which contains about 10 customers based on postcode."
   ]
  },
  {
   "cell_type": "code",
   "execution_count": null,
   "id": "720b65f5",
   "metadata": {
    "scrolled": true
   },
   "outputs": [],
   "source": [
    "print(df_1['Postcode'].unique())\n",
    "print(len(df_1['Postcode'].unique()))"
   ]
  },
  {
   "cell_type": "code",
   "execution_count": null,
   "id": "e8fe4413",
   "metadata": {
    "scrolled": true
   },
   "outputs": [],
   "source": [
    "print(df_2['Postcode'].unique())\n",
    "print(len(df_2['Postcode'].unique()))"
   ]
  },
  {
   "cell_type": "code",
   "execution_count": null,
   "id": "d3ca7688",
   "metadata": {
    "scrolled": false
   },
   "outputs": [],
   "source": [
    "df_1['Customer'].unique()"
   ]
  },
  {
   "cell_type": "code",
   "execution_count": null,
   "id": "06fe2c27",
   "metadata": {
    "scrolled": false
   },
   "outputs": [],
   "source": [
    "df_2['Customer'].unique()"
   ]
  },
  {
   "cell_type": "markdown",
   "id": "5a4fb44b",
   "metadata": {},
   "source": [
    "* We have 100 different postcodes and 300 customers, for our project, we'll choose 10 customers who have the same postcode and located in the same area"
   ]
  },
  {
   "cell_type": "code",
   "execution_count": null,
   "id": "2b8631d4",
   "metadata": {
    "scrolled": true
   },
   "outputs": [],
   "source": [
    "# Print the top value of Postcode for both datasets\n",
    "\n",
    "print(\"Postcode Value_counts\")\n",
    "print(df_1['Postcode'].value_counts().nlargest(1))\n",
    "print(df_2['Postcode'].value_counts().nlargest(1))"
   ]
  },
  {
   "cell_type": "code",
   "execution_count": null,
   "id": "13f15cf0",
   "metadata": {
    "scrolled": true
   },
   "outputs": [],
   "source": [
    "# Choose the top customers at this postcode for both datasets\n",
    "\n",
    "s1 = df_1.Customer[df_1['Postcode']==2259].value_counts().nlargest(13).to_frame().index\n",
    "s2 = df_2.Customer[df_2['Postcode']==2259].value_counts().nlargest(13).to_frame().index\n",
    "print(s1,'\\n',s2)"
   ]
  },
  {
   "cell_type": "code",
   "execution_count": null,
   "id": "2980f2b9",
   "metadata": {
    "scrolled": true
   },
   "outputs": [],
   "source": [
    "# Select the 10 customers which intersection in both datasets\n",
    "\n",
    "selected_customer_id  = np.sort(s1[s1.isin(s2)])\n",
    "print(selected_customer_id)"
   ]
  },
  {
   "cell_type": "code",
   "execution_count": null,
   "id": "78064110",
   "metadata": {
    "scrolled": true
   },
   "outputs": [],
   "source": [
    "# Filter the first dataset using selected customers Ids\n",
    "\n",
    "selected_df_1 = df_1[df_1.Customer.isin(selected_customer_id)]\n",
    "selected_df_1.head()"
   ]
  },
  {
   "cell_type": "code",
   "execution_count": null,
   "id": "9497e8d4",
   "metadata": {
    "scrolled": true
   },
   "outputs": [],
   "source": [
    "# Filter the second  dataset using selected customers IDs\n",
    "\n",
    "selected_df_2 = df_2[df_2.Customer.isin(selected_customer_id)]\n",
    "selected_df_2.head()"
   ]
  },
  {
   "cell_type": "code",
   "execution_count": null,
   "id": "79b11164",
   "metadata": {
    "scrolled": true
   },
   "outputs": [],
   "source": [
    "# Check that both datasets have the same customers\n",
    "\n",
    "print(selected_df_1.Customer.unique())\n",
    "print(selected_df_2.Customer.unique())"
   ]
  },
  {
   "cell_type": "code",
   "execution_count": null,
   "id": "d0e58880",
   "metadata": {
    "scrolled": true
   },
   "outputs": [],
   "source": [
    "# Check that both datasets have the same postcode\n",
    "\n",
    "print(selected_df_2.Postcode.unique())\n",
    "print(selected_df_2.Postcode.unique())"
   ]
  },
  {
   "cell_type": "markdown",
   "id": "1310bfaa",
   "metadata": {},
   "source": [
    "##### Plot the postcodes:\n",
    "\n",
    "* The postcodes in our datasets are between 2008 and 2330, which relates to New South Wales.\n",
    "* The plot indicates that the postcode we chose contained the biggest number of customers."
   ]
  },
  {
   "cell_type": "code",
   "execution_count": null,
   "id": "1246e733",
   "metadata": {
    "scrolled": true
   },
   "outputs": [],
   "source": [
    "Nomin = pgeocode.Nominatim('au')"
   ]
  },
  {
   "cell_type": "code",
   "execution_count": null,
   "id": "48aaf8bb",
   "metadata": {
    "scrolled": true
   },
   "outputs": [],
   "source": [
    "postcode_1 = df_1['Postcode'].value_counts().to_frame().reset_index()\n",
    "postcode_1.columns = ['Postcode','Value']\n",
    "postcode_2 = df_2['Postcode'].value_counts().to_frame().reset_index()\n",
    "postcode_2.columns = ['Postcode','Value']"
   ]
  },
  {
   "cell_type": "code",
   "execution_count": null,
   "id": "31c78677",
   "metadata": {
    "scrolled": true
   },
   "outputs": [],
   "source": [
    "postcode = pd.DataFrame()\n",
    "postcode['Postcode'] = postcode_1.Postcode[postcode_1.Postcode.isin(postcode_2.Postcode)]\n",
    "postcode['Value'] = postcode_1.Value[postcode_1.Postcode.isin(postcode_2.Postcode)] + postcode_2.Value[postcode_1.Postcode.isin(postcode_2.Postcode)]"
   ]
  },
  {
   "cell_type": "code",
   "execution_count": null,
   "id": "f8768b7a",
   "metadata": {
    "scrolled": true
   },
   "outputs": [],
   "source": [
    "postcode[\"Latitude\"] =postcode[\"Postcode\"].apply(lambda x: Nomin.query_postal_code(x)[9])\n",
    "postcode[\"Longitude\"] = postcode[\"Postcode\"].apply(lambda x: Nomin.query_postal_code(x)[10])\n",
    "postcode.head()"
   ]
  },
  {
   "cell_type": "code",
   "execution_count": null,
   "id": "5a6c74df",
   "metadata": {},
   "outputs": [],
   "source": [
    "conda install -c plotly plotly-orca"
   ]
  },
  {
   "cell_type": "code",
   "execution_count": null,
   "id": "a7832fb3",
   "metadata": {
    "scrolled": false
   },
   "outputs": [],
   "source": [
    "fig = px.scatter_mapbox(postcode, lat=\"Latitude\", lon=\"Longitude\", zoom=7, height=400,\n",
    "                       color=\"Postcode\", size= \"Value\",color_continuous_scale=px.colors.cyclical.IceFire, size_max=15,\n",
    "                        center=dict(lat=-33.1763, lon=151.461652),\n",
    "                       mapbox_style=\"open-street-map\")\n",
    "fig.update_layout(margin={\"r\":0,\"t\":0,\"l\":0,\"b\":0})\n",
    "fig.show()\n",
    "#fig.write_image(\"fig2.pdf\") "
   ]
  },
  {
   "cell_type": "markdown",
   "id": "1af2423d",
   "metadata": {},
   "source": [
    "### Reshape and merge the datasets "
   ]
  },
  {
   "cell_type": "markdown",
   "id": "3861b593",
   "metadata": {},
   "source": [
    "* The reference of this part of code is from: https://github.com/pierre-haessig/ausgrid-solar-data"
   ]
  },
  {
   "cell_type": "code",
   "execution_count": null,
   "id": "816b6762",
   "metadata": {
    "scrolled": true
   },
   "outputs": [],
   "source": [
    "# Stack the time, to get proper timestamp combining day and hour\n",
    "\n",
    "df_1_min, df_1_max = selected_df_1.date.min(), selected_df_1.date.max()\n",
    "df_2_min, df_2_max = selected_df_2.date.min(), selected_df_2.date.max()\n",
    "print(df_1_min, df_1_max)\n",
    "print(df_2_min, df_2_max )"
   ]
  },
  {
   "cell_type": "code",
   "execution_count": null,
   "id": "0c1fbecd",
   "metadata": {
    "scrolled": true
   },
   "outputs": [],
   "source": [
    "# Create the index, with \"left\" convention (start of the 30min interval), to make slicing for a given day easier\n",
    "\n",
    "Date_index_1 = pd.date_range(df_1_min, df_1_max + Day(1), freq='30T', closed='left')\n",
    "Date_index_2 = pd.date_range(df_2_min, df_2_max + Day(1), freq='30T', closed='left')"
   ]
  },
  {
   "cell_type": "markdown",
   "id": "fe9b0711",
   "metadata": {},
   "source": [
    "#### Consumption categories\n",
    "\n",
    "The datasets have three Categories:\n",
    "\n",
    "* GC = General Consumption for electricity supplied all the time (primary tariff, either inclining block or time of use rates), excluding solar generation and controlled load supply\n",
    "* CL = Controlled Load Consumption (Off peak 1 or 2 tariffs)\n",
    "* GG = Gross Generation for electricity generated by the solar system with a gross metering configuration, measured separately to household loads\n",
    "\n",
    "In our project, we interested to the power consumption, not power generation, due to this reason, we'll use General power consumption category."
   ]
  },
  {
   "cell_type": "code",
   "execution_count": null,
   "id": "42eb81fa",
   "metadata": {
    "scrolled": true
   },
   "outputs": [],
   "source": [
    "print(selected_df_1['Consumption Category'].unique())\n",
    "print(selected_df_2['Consumption Category'].unique())\n"
   ]
  },
  {
   "cell_type": "markdown",
   "id": "55dfc6c8",
   "metadata": {},
   "source": [
    "Create a new data frame using an empty MultiIndex (Customers/Features)."
   ]
  },
  {
   "cell_type": "code",
   "execution_count": null,
   "id": "c990abc1",
   "metadata": {
    "scrolled": true
   },
   "outputs": [],
   "source": [
    "customers = selected_customer_id\n",
    "customers"
   ]
  },
  {
   "cell_type": "code",
   "execution_count": null,
   "id": "41201fdc",
   "metadata": {
    "scrolled": true
   },
   "outputs": [],
   "source": [
    "# here are all the features that we will extracted later in addition to GC (General consumption).\n",
    "\n",
    "Features = ['hourofday','minuteofhour','dayofweek','dayofmonth','monthofyear',\n",
    "            'year','GC','Anomaly']\n"
   ]
  },
  {
   "cell_type": "code",
   "execution_count": null,
   "id": "93ef041e",
   "metadata": {
    "scrolled": false
   },
   "outputs": [],
   "source": [
    "columns = pd.MultiIndex.from_product(\n",
    "    (customers, Features), names=['Customer', 'Features'])\n",
    "columns"
   ]
  },
  {
   "cell_type": "code",
   "execution_count": null,
   "id": "bb3b2dc4",
   "metadata": {
    "scrolled": true
   },
   "outputs": [],
   "source": [
    "empty_cols = pd.MultiIndex(\n",
    "    levels=[customers, Features],\n",
    "    codes=[[],[]],\n",
    "    names=['Customer', 'Features'])"
   ]
  },
  {
   "cell_type": "code",
   "execution_count": null,
   "id": "73f9a8ff",
   "metadata": {
    "scrolled": true
   },
   "outputs": [],
   "source": [
    "empty_cols"
   ]
  },
  {
   "cell_type": "code",
   "execution_count": null,
   "id": "5f2da581",
   "metadata": {
    "scrolled": true
   },
   "outputs": [],
   "source": [
    "Data_set_1 = pd.DataFrame(index=Date_index_1, columns=empty_cols)\n",
    "Data_set_1"
   ]
  },
  {
   "cell_type": "code",
   "execution_count": null,
   "id": "168eec05",
   "metadata": {
    "scrolled": true
   },
   "outputs": [],
   "source": [
    "Data_set_2 = pd.DataFrame(index=Date_index_2, columns=empty_cols)\n",
    "Data_set_2"
   ]
  },
  {
   "cell_type": "markdown",
   "id": "3104b891",
   "metadata": {},
   "source": [
    "### Features Extraction:"
   ]
  },
  {
   "cell_type": "code",
   "execution_count": null,
   "id": "c44bd343",
   "metadata": {
    "scrolled": true
   },
   "outputs": [],
   "source": [
    "for c in customers:\n",
    "    d_c = selected_df_1[selected_df_1.Customer == c] \n",
    "    print(c, end=', ')\n",
    "    d_c_ch = d_c[d_c['Consumption Category'] == 'GC']\n",
    "    ts = d_c_ch.iloc[:,5:-1].values.ravel()\n",
    "    Data_set_1[c, 'GC'] = ts \n",
    "    Data_set_1[c,'hourofday']=Data_set_1[c].index.hour\n",
    "    Data_set_1[c,'minuteofhour']=Data_set_1[c].index.minute\n",
    "    Data_set_1[c,'dayofweek']=Data_set_1[c].index.dayofweek\n",
    "    Data_set_1[c,'dayofmonth']=Data_set_1[c].index.day\n",
    "    Data_set_1[c,'monthofyear']=Data_set_1[c].index.month\n",
    "    Data_set_1[c,'year']=Data_set_1[c].index.year\n"
   ]
  },
  {
   "cell_type": "code",
   "execution_count": null,
   "id": "5e107d9b",
   "metadata": {
    "scrolled": false
   },
   "outputs": [],
   "source": [
    "Data_set_1.head()"
   ]
  },
  {
   "cell_type": "code",
   "execution_count": null,
   "id": "acc82db7",
   "metadata": {
    "scrolled": true
   },
   "outputs": [],
   "source": [
    "for c in customers:\n",
    "    d_c = selected_df_2[selected_df_2.Customer == c] \n",
    "    print(c, end=', ')\n",
    "    d_c_ch = d_c[d_c['Consumption Category'] == 'GC']\n",
    "    ts = d_c_ch.iloc[:,5:-1].values.ravel()\n",
    "    Data_set_2[c, 'GC'] = ts\n",
    "    Data_set_2[c,'hourofday']=Data_set_2[c].index.hour\n",
    "    Data_set_2[c,'minuteofhour']=Data_set_2[c].index.minute\n",
    "    Data_set_2[c,'dayofweek']=Data_set_2[c].index.dayofweek\n",
    "    Data_set_2[c,'dayofmonth']=Data_set_2[c].index.day\n",
    "    Data_set_2[c,'monthofyear']=Data_set_2[c].index.month\n",
    "    Data_set_2[c,'year']=Data_set_2[c].index.year\n"
   ]
  },
  {
   "cell_type": "code",
   "execution_count": null,
   "id": "e6f4e450",
   "metadata": {
    "scrolled": false
   },
   "outputs": [],
   "source": [
    "Data_set_2.head()"
   ]
  },
  {
   "cell_type": "code",
   "execution_count": null,
   "id": "329cf408",
   "metadata": {
    "scrolled": false
   },
   "outputs": [],
   "source": [
    "'''we will not have any misining records, since we removed Non-Actual values and\n",
    "filtered the datasets with selected customers-id'''\n",
    "\n",
    "All_data= pd.concat([Data_set_1, Data_set_2], axis = 0, levels = 0)\n",
    "All_data"
   ]
  },
  {
   "cell_type": "code",
   "execution_count": null,
   "id": "fbc26014",
   "metadata": {
    "scrolled": true
   },
   "outputs": [],
   "source": [
    "All_data.describe()"
   ]
  },
  {
   "cell_type": "markdown",
   "id": "cb2bc130",
   "metadata": {},
   "source": [
    "# ========================"
   ]
  },
  {
   "cell_type": "markdown",
   "id": "f0624adf",
   "metadata": {},
   "source": [
    "### Some Data exploration and plots:"
   ]
  },
  {
   "cell_type": "code",
   "execution_count": null,
   "id": "5d92cb4f",
   "metadata": {
    "scrolled": true
   },
   "outputs": [],
   "source": [
    "power_c = All_data.xs('GC', level='Features', axis=1)"
   ]
  },
  {
   "cell_type": "code",
   "execution_count": null,
   "id": "d78881a0",
   "metadata": {
    "scrolled": false
   },
   "outputs": [],
   "source": [
    "power_c[selected_customer_id].resample('1Y').sum().transpose().plot(kind=\"bar\",figsize=(20,13),colormap=\"winter\")\n",
    "\n",
    "plt.legend(['2011','2012','2013'],loc='upper left',title='Years',fontsize=20)\n",
    "#plt.title('Total power consumption over two years for the ten selected customers \\n',fontsize=\"x-large\")\n",
    "plt.xlabel('\\n Customers-IDs',fontsize=25)\n",
    "plt.ylabel('Power consumption KW/h',fontsize=25)\n",
    "plt.rc('xtick', labelsize=25) \n",
    "plt.rc('ytick', labelsize=25) \n",
    "plt.savefig('fig3.pdf')"
   ]
  },
  {
   "cell_type": "code",
   "execution_count": null,
   "id": "e8af6f03",
   "metadata": {
    "scrolled": false
   },
   "outputs": [],
   "source": [
    "power_c[selected_customer_id].sum(axis=1).resample('3M').sum().plot(kind=\"bar\",figsize=(20,13),width=0.2,edgecolor='g',color='y')\n",
    "locs, labels = plt.xticks()\n",
    "plt.xticks(locs, ['Winter\\n2011', 'Spring\\n2011', 'Summer\\n2012','Autumn\\n2012','Winter\\n2012', 'Spring\\n2012',\n",
    "         'Summer\\n2013','Autumn\\n2013','Winter\\n2013'],rotation=0) \n",
    "plt.xlabel('\\n Seasons of the year',fontsize=25)\n",
    "plt.ylabel('Power consumption KW/h',fontsize=25)\n",
    "#plt.title('Total Seasonal power consumption over two years for the ten selected customers IDs \\n',fontsize=\"x-large\")\n",
    "plt.rc('xtick', labelsize=25) \n",
    "plt.rc('ytick', labelsize=25) \n",
    "plt.savefig('fig4.pdf')"
   ]
  },
  {
   "cell_type": "code",
   "execution_count": null,
   "id": "cff0d66e",
   "metadata": {
    "scrolled": false
   },
   "outputs": [],
   "source": [
    "power_c[selected_customer_id].resample('3M').sum().plot(kind=\"bar\",figsize=(15,7))\n",
    "locs, labels = plt.xticks()\n",
    "plt.xticks(locs, ['Winter/2011', 'Spring/2011', 'Summer/2012','Autumn/2012','Winter/2012', 'Spring/2012',\n",
    "         'Summer/2013','Autumn/2013','Winter/2013'],rotation=0) \n",
    "plt.legend(loc='upper right',ncol=5, title=\"Customers ID\")\n",
    "plt.xlabel('\\n Seasons of the year',fontsize=13)\n",
    "plt.ylabel('Power consumption KW/h',fontsize=13)\n",
    "plt.title('Total Seasonal power consumption over two years for the ten selected customers IDs \\n',fontsize=15)\n",
    "\n",
    "#plt.savefig('Total Seasonal power consumption.png', dpi=150)"
   ]
  },
  {
   "cell_type": "code",
   "execution_count": null,
   "id": "ff28ae1f",
   "metadata": {
    "scrolled": false
   },
   "outputs": [],
   "source": [
    "power_data= power_c[selected_customer_id].sum(axis=1).groupby([power_c.index.dayofweek,power_c.index.month]).sum().unstack()\n",
    "power_data.plot(style='-D',figsize=(20,12))\n",
    "plt.legend(loc='best',ncol=6,title='Months',labels=month_abbr[1:13],fontsize=20)\n",
    "plt.xlabel('Day of the week', fontsize=25)\n",
    "plt.xticks([0,1,2,3,4,5,6],['Mon', 'Tue', 'Wed', 'Thu', 'Fri', 'Sat', 'Sun'])\n",
    "plt.ylabel('Power consumption KW/h', fontsize=25)\n",
    "#plt.title('Total energy consumption by month and day for all customers',fontsize=\"x-large\")\n",
    "plt.rc('xtick', labelsize=25) \n",
    "plt.rc('ytick', labelsize=25) \n",
    "plt.savefig('fig5.pdf')\n",
    "plt.show()\n"
   ]
  },
  {
   "cell_type": "code",
   "execution_count": null,
   "id": "b9145c5b",
   "metadata": {
    "scrolled": false
   },
   "outputs": [],
   "source": [
    "power_data= power_c[selected_customer_id].sum(axis=1).groupby([power_c.index.dayofweek,power_c.index.hour]).sum().unstack()\n",
    "f, ax = plt.subplots(figsize=(16,8))\n",
    "sns.heatmap(power_data, ax = ax, cmap='Blues')\n",
    "cbax = f.axes[1]\n",
    "[l.set_fontsize(13) for l in cbax.yaxis.get_ticklabels()]\n",
    "cbax.set_ylabel('Power consumption kw/h', fontsize=25)\n",
    "#ax.set_title('Power consumption per day of the week and hour of the day for all customers', fontsize=\"x-large\")\n",
    "[l.set_fontsize(11) for l in ax.xaxis.get_ticklabels()]\n",
    "[l.set_fontsize(11) for l in ax.yaxis.get_ticklabels()]\n",
    "ax.set_xlabel('hour of the day', fontsize=25)\n",
    "ax.set_ylabel('day of the week', fontsize=25)\n",
    "ax.set_yticklabels(day_abbr[0:7])\n",
    "plt.rc('xtick', labelsize=25) \n",
    "plt.rc('ytick', labelsize=25) \n",
    "plt.savefig('fig6.pdf')\n",
    "plt.show()"
   ]
  },
  {
   "cell_type": "markdown",
   "id": "734b5eb8",
   "metadata": {},
   "source": [
    "# FB prophet:"
   ]
  },
  {
   "cell_type": "markdown",
   "id": "2b7e61b7",
   "metadata": {},
   "source": [
    "* The refrence of this part of code :\n",
    "   - https://facebook.github.io/prophet/docs/installation.html#python\n",
    "   - https://towardsdatascience.com/anomaly-detection-time-series-4c661f6f165f\n",
    "   - https://medium.com/seismic-data-science/anomaly-detection-using-prophet-a5dcea2c5473\n",
    "   - https://www.kaggle.com/vinayjaju/anomaly-detection-using-facebook-s-prophet\n",
    "   - https://nbviewer.jupyter.org/github/nicolasfauchereau/Auckland_Cycling/blob/master/notebooks/Auckland_cycling_and_weather.ipynb"
   ]
  },
  {
   "cell_type": "code",
   "execution_count": null,
   "id": "09105024",
   "metadata": {
    "scrolled": true
   },
   "outputs": [],
   "source": [
    "from matplotlib.dates import MonthLocator, num2date\n",
    "from matplotlib.ticker import FuncFormatter\n",
    "from fbprophet import Prophet\n",
    "import itertools"
   ]
  },
  {
   "cell_type": "code",
   "execution_count": null,
   "id": "4655b513",
   "metadata": {
    "scrolled": true
   },
   "outputs": [],
   "source": [
    "import warnings\n",
    "# prophet preformance\n",
    "from fbprophet.diagnostics import cross_validation\n",
    "from fbprophet.diagnostics import performance_metrics\n",
    "from fbprophet.plot import plot_cross_validation_metric\n",
    "# \"high resolution\"\n",
    "%config InlineBackend.figure_format = 'retina'\n",
    "warnings.filterwarnings('ignore')"
   ]
  },
  {
   "cell_type": "code",
   "execution_count": null,
   "id": "2d652bf2",
   "metadata": {
    "scrolled": true
   },
   "outputs": [],
   "source": [
    "import os\n",
    "import altair as alt\n",
    "alt.renderers.enable('default')\n",
    "alt.data_transformers.disable_max_rows()\n",
    "#alt.renderers.enable('notebook')\n",
    "print(os.listdir(\"/Users/eserrari/Desktop/All folders/Thesis submission/SourceCode_MSThesis/part-1\"))\n",
    "from IPython.display import HTML\n",
    "\n",
    "#HTML(\"This code block contains import statements and setup.\")"
   ]
  },
  {
   "cell_type": "markdown",
   "id": "710537e5",
   "metadata": {},
   "source": [
    "### Grid Search hyperparameter tuning:"
   ]
  },
  {
   "cell_type": "markdown",
   "id": "9919cad5",
   "metadata": {},
   "source": [
    "For tuning hyperparameters of the model we used cross-validation, we defined a param_grid of all the parameters and values we want to loop through, and then calculated the performance matrix, and get the best parameter combination in terms of RMSE, averaged over a 180-day horizon. we compare around 192 models with parallelization over cutoffs."
   ]
  },
  {
   "cell_type": "code",
   "execution_count": null,
   "id": "892d6a12",
   "metadata": {
    "scrolled": true
   },
   "outputs": [],
   "source": [
    "def tuning_func(new_data):\n",
    "    param_grid = {  \n",
    "        'changepoint_range': [0.8, 0.9],\n",
    "        'changepoint_prior_scale': [0.001, 0.1, 0.5,1.0],\n",
    "        'seasonality_prior_scale': [0.01, 0.1, 1.0, 10.0],\n",
    "        'holidays_prior_scale': [0.01, 0.1, 1.0],\n",
    "        'seasonality_mode': ['additive', 'multiplicative'],\n",
    "    }\n",
    "\n",
    "    # Generate all combinations of parameters\n",
    "    all_params = [dict(zip(param_grid.keys(), v)) for v in itertools.product(*param_grid.values())]\n",
    "    rmses = []  # Store the RMSEs for each params here\n",
    "\n",
    "    # Use cross validation to evaluate all parameters\n",
    "    cutoffs = pd.to_datetime(['2012-12-01'])\n",
    "    for params in all_params:\n",
    "        m = Prophet(**params).fit(new_data)  # Fit model with given params\n",
    "        df_cv = cross_validation(m, cutoffs=cutoffs, horizon='180 days', parallel=\"processes\")\n",
    "        df_p = performance_metrics(df_cv, rolling_window=1)\n",
    "        rmses.append(df_p['rmse'].values[0])\n",
    "\n",
    "    # Find the best parameters\n",
    "    tuning_results = pd.DataFrame(all_params)\n",
    "    tuning_results['rmse'] = rmses\n",
    "    best_params = all_params[np.argmin(rmses)]\n",
    "\n",
    "    # plot the RMSE for the forecast.\n",
    "    fig = plot_cross_validation_metric(df_cv, metric='rmse')\n",
    "    plt.show()\n",
    "    return best_params,df_p"
   ]
  },
  {
   "cell_type": "markdown",
   "id": "171f81d1",
   "metadata": {},
   "source": [
    "#### Note:\n",
    "    * The next part of the code needs around 40 hours to be finished. "
   ]
  },
  {
   "cell_type": "code",
   "execution_count": null,
   "id": "85310060",
   "metadata": {
    "scrolled": true
   },
   "outputs": [],
   "source": [
    "best_param = dict()\n",
    "cv_metrics = dict()\n",
    "for i in selected_customer_id:\n",
    "    temp_data = power_c[i].reset_index()\n",
    "    temp_data.columns = ['ds','y']\n",
    "    best_param[i],cv_metrics[i] = tuning_func(temp_data)"
   ]
  },
  {
   "cell_type": "code",
   "execution_count": null,
   "id": "1a3e7e9d",
   "metadata": {
    "scrolled": true
   },
   "outputs": [],
   "source": [
    "# Save Best parameters to a file\n",
    "np.save('best_params.npy', best_param) "
   ]
  },
  {
   "cell_type": "code",
   "execution_count": null,
   "id": "68f2e2a7",
   "metadata": {
    "scrolled": true
   },
   "outputs": [],
   "source": [
    "# Load the Best parameters file to avoid run the hyper-tuning code part\n",
    "best_param = np.load('best_params.npy',allow_pickle='TRUE').item()"
   ]
  },
  {
   "cell_type": "code",
   "execution_count": null,
   "id": "836a9a00",
   "metadata": {
    "scrolled": false
   },
   "outputs": [],
   "source": [
    "for k, v in best_param.items():\n",
    "    print('Best parameters for Customer ',k)\n",
    "    print(v,'\\n')"
   ]
  },
  {
   "cell_type": "code",
   "execution_count": null,
   "id": "17db0f19",
   "metadata": {
    "scrolled": true
   },
   "outputs": [],
   "source": [
    "for k, v in cv_metrics.items():\n",
    "    print('The CV scors for Customer ',k)\n",
    "    print(v,'\\n')"
   ]
  },
  {
   "cell_type": "markdown",
   "id": "c1fb55f4",
   "metadata": {},
   "source": [
    "### Prophet functions:"
   ]
  },
  {
   "cell_type": "code",
   "execution_count": null,
   "id": "b84c6891",
   "metadata": {
    "scrolled": true
   },
   "outputs": [],
   "source": [
    "def is_weekends(ds):\n",
    "    date = pd.to_datetime(ds)\n",
    "    return (date.weekday() == 5 or date.weekday() == 6 )\n",
    "\n",
    "\n",
    "def fit_predict_model(dataframe,best_params):\n",
    "    dataframe['weekends'] = dataframe['ds'].apply(is_weekends)\n",
    "    dataframe['week_days'] = ~dataframe['ds'].apply(is_weekends)\n",
    "    \n",
    "    m = Prophet(daily_seasonality = True, \n",
    "                weekly_seasonality = False,\n",
    "                yearly_seasonality = True, \n",
    "                interval_width = 0.99,\n",
    "                changepoint_range = best_params['changepoint_range'],\n",
    "                changepoint_prior_scale = best_params['changepoint_prior_scale'], \n",
    "                seasonality_prior_scale = best_params['seasonality_prior_scale'],\n",
    "                holidays_prior_scale = best_params['holidays_prior_scale'],\n",
    "                seasonality_mode = best_params['seasonality_mode'])\n",
    "    \n",
    "    m.add_country_holidays(country_name='AU')\n",
    "    m.add_seasonality(name='week_ends', period=7, fourier_order=3, condition_name='weekends')\n",
    "    m.add_seasonality(name='week_days', period=7, fourier_order=3, condition_name='week_days')\n",
    "\n",
    "    m = m.fit(dataframe)\n",
    "    forecast = m.predict(dataframe)\n",
    "    forecast['fact'] = dataframe['y'].reset_index(drop = True)\n",
    "    print('Displaying Prophet components plot')\n",
    "    \n",
    "    plt.rc('xtick', labelsize=15) \n",
    "    plt.rc('ytick', labelsize=15) \n",
    "    fig1 = m.plot(forecast,figsize=(16, 12))\n",
    "    plt.xlabel('ds',fontsize=20)\n",
    "    plt.ylabel('y',fontsize=20)\n",
    "    #plt.savefig('fig7.pdf')\n",
    "    \n",
    "    plt.rc('xtick', labelsize=11) \n",
    "    plt.rc('ytick', labelsize=11) \n",
    "    fig2 = m.plot_components(forecast)\n",
    "    #plt.savefig('fig8.pdf')\n",
    "    plt.show()\n",
    "    return forecast\n"
   ]
  },
  {
   "cell_type": "code",
   "execution_count": null,
   "id": "30bc57c3",
   "metadata": {
    "scrolled": true
   },
   "outputs": [],
   "source": [
    "def detect_anomalies(forecast):\n",
    "    forecasted = forecast[['ds','trend', 'yhat', 'yhat_lower', 'yhat_upper', 'fact']].copy()\n",
    "    forecasted['anomaly'] = 0\n",
    "\n",
    "    # identify any value lies outside the upper bound of the confidence interval as outliers \n",
    "    forecasted.loc[forecasted['fact'] > forecasted['yhat_upper'], 'anomaly'] = 1\n",
    "    # identify any value lies outside the upper bound of the confidence interval as outliers \n",
    "    forecasted.loc[forecasted['fact'] < forecasted['yhat_lower'], 'anomaly'] = 1\n",
    "    # identify all zero values as outliers \n",
    "    forecasted.loc[forecasted['fact'] == 0, 'anomaly'] = 1\n",
    "    '''We can add this line to identify any negative values as outliers,\n",
    "     In our dataset we don’t have any negative values '''\n",
    "    #forecasted.loc[forecasted['fact'] < 0, 'anomaly'] = 1\n",
    "    \n",
    "    #Calculate anomaly importances, to use it only with anomalies plotting \n",
    "    forecasted['importance'] = 0\n",
    "    Interval_range = forecasted['yhat_upper'] - forecasted['yhat_lower']\n",
    "    forecasted.loc[forecasted['fact'] > forecasted['yhat_upper'], 'importance'] = \\\n",
    "        (forecasted['fact'] - forecasted['yhat_upper'])/Interval_range\n",
    "    forecasted.loc[forecasted['fact'] < forecasted['yhat_lower'], 'importance'] = \\\n",
    "        (forecasted['yhat_lower'] - forecasted['fact'])/Interval_range\n",
    "    # assigned the same imortance score for the GC with zero values\n",
    "    forecasted.loc[(forecasted['anomaly'] ==1) & (forecasted['fact'] == 0), 'importance'] = 0.25\n",
    "    \n",
    "    # assigned the same imortance score for the GC with negative values, this part can be added if we have negative values\n",
    "    #forecasted.loc[(forecasted['anomaly'] ==1) & (forecasted['fact'] < 0), 'importance'] = 0.25\n",
    "\n",
    "    return forecasted"
   ]
  },
  {
   "cell_type": "code",
   "execution_count": null,
   "id": "190a8c68",
   "metadata": {
    "scrolled": true
   },
   "outputs": [],
   "source": [
    "def plot_anomalies(forecasted):  \n",
    "    interval = alt.Chart(forecasted).mark_area( color = '#F7E98E').encode(\n",
    "    x=alt.X('ds:T',  title ='Date_Time'),\n",
    "    y='yhat_upper',\n",
    "    y2='yhat_lower',\n",
    "    tooltip=['hoursminutes(ds)', 'fact', 'yhat_lower', 'yhat_upper']\n",
    "    ).interactive().properties(\n",
    "        title='Anomaly detection over six months'\n",
    "    )\n",
    "    \n",
    "    fact = alt.Chart(forecasted[forecasted.anomaly==0]).mark_circle(size=20, opacity=0.7, color = 'Black').encode(\n",
    "        x='ds:T',\n",
    "        y=alt.Y('fact'),    #, title='Globel power'\n",
    "        tooltip=['hoursminutes(ds)', 'fact', 'yhat_lower', 'yhat_upper']\n",
    "    ).interactive()\n",
    "\n",
    "    anomalies = alt.Chart(forecasted[forecasted.anomaly!=0]).mark_circle(size=5, color = '#73b27d').encode(\n",
    "        x='ds:T',\n",
    "        y=alt.Y('fact', title='Power consumption KW/h'),    \n",
    "        tooltip=['hoursminutes(ds)', 'fact', 'yhat_lower', 'yhat_upper'],\n",
    "        size = alt.Size( 'importance', legend=None)\n",
    "    ).interactive()\n",
    "\n",
    "    render = (alt.layer(interval, fact, anomalies)\\\n",
    "              .properties(width=870, height=450)\\\n",
    "              .configure_title(fontSize=20).configure_axis(\n",
    "                labelFontSize=18,titleFontSize=20\n",
    "                )).display() \n",
    "    return render"
   ]
  },
  {
   "cell_type": "markdown",
   "id": "386f7ea8",
   "metadata": {},
   "source": [
    "### Plot functions:"
   ]
  },
  {
   "cell_type": "code",
   "execution_count": null,
   "id": "1571040d",
   "metadata": {
    "scrolled": true
   },
   "outputs": [],
   "source": [
    "def plot_1(power_data,i):\n",
    "    power_data = power_data[['GC','dayofweek','monthofyear']]\n",
    "    power_data = power_data.groupby(['dayofweek','monthofyear']).sum().unstack()\n",
    "    power_data.columns = power_data.columns.droplevel(0)\n",
    "\n",
    "    power_data.plot(style='-D',figsize=(20,8))\n",
    "    plt.legend(loc='best',ncol=6,title='Months',labels=month_abbr[1:13])\n",
    "    plt.xlabel('Day of the week', fontsize=13)\n",
    "    plt.xticks([0,1,2,3,4,5,6],['Mon', 'Tue', 'Wed', 'Thu', 'Fri', 'Sat', 'Sun'])\n",
    "    plt.ylabel('Power consumption KW/h', fontsize=13)\n",
    "    plt.title('Total energy consumption by month and day for customer-ID: %i' %i,fontsize=15)\n",
    "    plt.show()\n",
    "    #plt.savefig(Total energy consumption.{jpeg}', dpi=200)\n",
    "    return"
   ]
  },
  {
   "cell_type": "code",
   "execution_count": null,
   "id": "1e8fe0d8",
   "metadata": {
    "scrolled": true
   },
   "outputs": [],
   "source": [
    "def plot_2(power_data,i):\n",
    "    power_data = power_data[['GC','dayofweek','hourofday']]\n",
    "    power_data = power_data.groupby(['dayofweek','hourofday']).sum().unstack()\n",
    "    power_data.columns = power_data.columns.droplevel(0)\n",
    "    \n",
    "    f, ax = plt.subplots(figsize=(12,6))\n",
    "    sns.heatmap(power_data, ax = ax, cmap='Blues')\n",
    "    cbax = f.axes[1]\n",
    "    [l.set_fontsize(13) for l in cbax.yaxis.get_ticklabels()]\n",
    "    cbax.set_ylabel('Power consumption kw/h', fontsize=13)\n",
    "    ax.set_title('Power consumption per day of the week and hour of the day for customer-ID: %i' %i, fontsize=15)\n",
    "    [l.set_fontsize(11) for l in ax.xaxis.get_ticklabels()]\n",
    "    [l.set_fontsize(11) for l in ax.yaxis.get_ticklabels()]\n",
    "    ax.set_xlabel('hour of the day', fontsize=13)\n",
    "    ax.set_ylabel('day of the week', fontsize=13)\n",
    "    ax.set_yticklabels(day_abbr[0:7])\n",
    "    plt.show()\n",
    " \n",
    "    return"
   ]
  },
  {
   "cell_type": "code",
   "execution_count": null,
   "id": "a8c6a58f",
   "metadata": {
    "scrolled": true
   },
   "outputs": [],
   "source": [
    "def plot_3(power_data,i):\n",
    "    f, ax = plt.subplots(figsize=(15,7))\n",
    "    \n",
    "    ax.plot(power_data.GC[~power_data.index.dayofweek.isin([5,6])].resample('1W').mean(), color='g', label='week days', lw=2)\n",
    "    ax.plot(power_data.GC[power_data.index.dayofweek.isin([5,6])].resample('1W').mean(), color='b', label='week-ends', ls='--', lw=2)\n",
    "    ax.grid(ls=':', color='0.8')\n",
    "    ax.set_xlabel('Month of the year', fontsize=13)\n",
    "    ax.set_ylabel('Power Consumption KW/h', fontsize=13)\n",
    "    ax.legend(['week days','week-ends'] , fontsize=13)\n",
    "    ax.set_title('Average weekly power consumption during week days versus week-ends for customer-ID: %i' %i, fontsize=15)\n",
    "    plt.show()\n",
    "    return"
   ]
  },
  {
   "cell_type": "code",
   "execution_count": null,
   "id": "52ce0e12",
   "metadata": {
    "scrolled": true
   },
   "outputs": [],
   "source": [
    "def plot_4(power_data,i,j):\n",
    "    f, ax = plt.subplots(figsize=(20,10))\n",
    "    ax.plot(power_data.GC, lw=2)\n",
    "    ax.grid(ls=':', color='0.8')\n",
    "    ax.set_xlabel('Date', fontsize=25)\n",
    "    ax.set_ylabel('Power Consumption KW/h', fontsize=25)\n",
    "    ax.set_title('Half-hour power consumption of Community Coustomer-ID: %i'%i+' over %i months' %j, fontsize=25)\n",
    "    # This part to be used with thesis discussion \n",
    "    #ax.fill_between(power_data.index, power_data['lower'], power_data['upper'], alpha=0.2,color='orange')\n",
    "    #scatter = ax.scatter(power_data.GC[power_data['Anomaly']==1].index,power_data.GC[power_data['Anomaly']==1], color='red',label='Anomaly')\n",
    "    plt.rc('xtick', labelsize=25) \n",
    "    plt.rc('ytick', labelsize=25)\n",
    "   # plt.savefig('fig14.pdf')\n",
    "    plt.show()\n",
    "    return"
   ]
  },
  {
   "cell_type": "code",
   "execution_count": null,
   "id": "8046f5f4",
   "metadata": {
    "scrolled": true
   },
   "outputs": [],
   "source": [
    "def plot_5(power_data,i,j):\n",
    "    f, ax = plt.subplots(figsize=(20,10))\n",
    "    ax.plot(power_data.GC[power_data['Anomaly']==0], color='g', lw=1,label='power consumption')\n",
    "    scatter = ax.scatter(power_data.GC[power_data['Anomaly']==1].index,power_data.GC[power_data['Anomaly']==1], color='red',label='Anomaly')\n",
    "    ax.legend(loc=\"upper right\",labelcolor='k', fontsize=18)\n",
    "    ax.grid(ls=':', color='0.8')\n",
    "    ax.set_xlabel('Date', fontsize=25)\n",
    "    ax.set_ylabel('Power Consumption KW/h', fontsize=25)\n",
    "    ax.set_title('Anomalies of half-hour power consumption over %i' %j + ' months of Community Customer-ID: %i' %i, fontsize=25)\n",
    "    # This part to be used with thesis discussion \n",
    "    #ax.fill_between(power_data.index, power_data['lower'], power_data['upper'], alpha=0.2,color='orange')\n",
    "    plt.rc('xtick', labelsize=25) \n",
    "    plt.rc('ytick', labelsize=25) \n",
    "    #plt.savefig('fig15.pdf')\n",
    "    plt.show()\n",
    "    return"
   ]
  },
  {
   "cell_type": "markdown",
   "id": "8562714d",
   "metadata": {},
   "source": [
    "### Identify the Anomalies for each Customer:"
   ]
  },
  {
   "cell_type": "code",
   "execution_count": null,
   "id": "18a84c3f",
   "metadata": {
    "scrolled": true
   },
   "outputs": [],
   "source": [
    "selected_customer_id"
   ]
  },
  {
   "cell_type": "markdown",
   "id": "4b421dee",
   "metadata": {},
   "source": [
    "#### First customer :"
   ]
  },
  {
   "cell_type": "code",
   "execution_count": null,
   "id": "f408f4d3",
   "metadata": {
    "scrolled": false
   },
   "outputs": [],
   "source": [
    "pred = dict()\n",
    "i = selected_customer_id[0]\n",
    "print(\"\\n\\n Identifying the Anomalies for Customer ==> \",i)\n",
    "    \n",
    "print(\"\\n\\n Step-1: Fit FB-prophet model with best parameters\")\n",
    "temp_data= All_data.xs('GC', level='Features', axis=1)[i].reset_index()\n",
    "temp_data.columns=['ds','y']\n",
    "print(\"\\n Plot the FB-prophet model for Customer ==>\",i)\n",
    "pred[i] = fit_predict_model(temp_data,best_param[i])\n",
    "\n",
    "print(\"\\n\\n Step-2 : Detect the anamalies for Customer ==>\",i)\n",
    "pred[i] = detect_anomalies(pred[i])\n",
    "print(\"\\n Plot the anamalies for Customer ==>\",i)\n",
    "plot_anomalies(pred[i])\n",
    "\n",
    "print(\"Customer\",i,\" values counts: \\n\",pred[i]['anomaly'].value_counts())\n",
    "print(\"\\n\\n Step-3: Assign the Anomalies to the Customer\",i)\n",
    "All_data[i,'Anomaly'] = pred[i]['anomaly'][All_data[i].index==pred[i]['ds']].values.ravel()\n",
    "# This part to be used with thesis discussion \n",
    "#All_data[i,'lower'] = pred[i]['yhat_lower'][All_data[i].index==pred[i]['ds']].values.ravel()\n",
    "#All_data[i,'upper'] = pred[i]['yhat_upper'][All_data[i].index==pred[i]['ds']].values.ravel()\n",
    "print(\"\\n Customer \",i,\"Is Done!\" )\n",
    "print(\"==============================================================================\")"
   ]
  },
  {
   "cell_type": "code",
   "execution_count": null,
   "id": "5a2aca17",
   "metadata": {},
   "outputs": [],
   "source": [
    "#plot_anomalies(pred[i].loc[(pred[i].ds > '2012-07-01')])\n",
    "plot_anomalies(pred[i].loc[(pred[i].ds > '2013-01-01')])\n",
    "#pred[i].loc[(pred[i].ds > '2012-01-01') & (pred[i].ds  < '2012-03-30')]"
   ]
  },
  {
   "cell_type": "code",
   "execution_count": null,
   "id": "0edacf4e",
   "metadata": {
    "scrolled": false
   },
   "outputs": [],
   "source": [
    "plot_1(All_data[i],i)"
   ]
  },
  {
   "cell_type": "code",
   "execution_count": null,
   "id": "1217aa82",
   "metadata": {
    "scrolled": false
   },
   "outputs": [],
   "source": [
    "plot_2(All_data[i],i)"
   ]
  },
  {
   "cell_type": "code",
   "execution_count": null,
   "id": "7ed13096",
   "metadata": {
    "scrolled": false
   },
   "outputs": [],
   "source": [
    "plot_3(All_data[i],i)"
   ]
  },
  {
   "cell_type": "code",
   "execution_count": null,
   "id": "451aa8a4",
   "metadata": {
    "scrolled": false
   },
   "outputs": [],
   "source": [
    "plot_4(All_data[i]['2012-01-01':'2012-03-31'],i,3)"
   ]
  },
  {
   "cell_type": "code",
   "execution_count": null,
   "id": "2f681366",
   "metadata": {
    "scrolled": false
   },
   "outputs": [],
   "source": [
    "plot_5(All_data[i]['2012-01-01':'2012-03-30'],i,3)"
   ]
  },
  {
   "cell_type": "markdown",
   "id": "c3138dcd",
   "metadata": {},
   "source": [
    "# ==============================================="
   ]
  },
  {
   "cell_type": "markdown",
   "id": "2d65ddf2",
   "metadata": {},
   "source": [
    "#### Second customer:"
   ]
  },
  {
   "cell_type": "code",
   "execution_count": null,
   "id": "c8ba662c",
   "metadata": {
    "scrolled": true
   },
   "outputs": [],
   "source": [
    "\n",
    "i = selected_customer_id[1]\n",
    "print(\"\\n\\n Identifying the Anomalies for Customer ==> \",i)\n",
    "    \n",
    "print(\"\\n\\n Step-1: Fit FB-prophet model with best parameters\")\n",
    "temp_data= All_data.xs('GC', level='Features', axis=1)[i].reset_index()\n",
    "temp_data.columns=['ds','y']\n",
    "print(\"\\n Plot the FB-prophet model for Customer ==>\",i)\n",
    "pred[i] = fit_predict_model(temp_data,best_param[i])\n",
    "\n",
    "print(\"\\n\\n Step-2 : Detect the anamalies for Customer ==>\",i)\n",
    "pred[i] = detect_anomalies(pred[i])\n",
    "print(\"\\n Plot the anamalies for Customer ==>\",i)\n",
    "plot_anomalies(pred[i])\n",
    "\n",
    "print(\"Customer\",i,\" values counts: \\n\",pred[i]['anomaly'].value_counts())\n",
    "print(\"\\n\\n Step-3: Assign the Anomalies to the Customer\",i)\n",
    "All_data[i,'Anomaly'] = pred[i]['anomaly'][All_data[i].index==pred[i]['ds']].values.ravel()\n",
    "All_data[i,'lower'] = pred[i]['yhat_lower'][All_data[i].index==pred[i]['ds']].values.ravel()\n",
    "All_data[i,'upper'] = pred[i]['yhat_upper'][All_data[i].index==pred[i]['ds']].values.ravel()\n",
    "print(\"\\n Customer \",i,\"Is Done!\" )\n",
    "print(\"==============================================================================\")"
   ]
  },
  {
   "cell_type": "code",
   "execution_count": null,
   "id": "21d0d00d",
   "metadata": {
    "scrolled": false
   },
   "outputs": [],
   "source": [
    "plot_1(All_data[i],i)"
   ]
  },
  {
   "cell_type": "code",
   "execution_count": null,
   "id": "772fc28f",
   "metadata": {
    "scrolled": false
   },
   "outputs": [],
   "source": [
    "plot_2(All_data[i],i)"
   ]
  },
  {
   "cell_type": "code",
   "execution_count": null,
   "id": "e379c51e",
   "metadata": {
    "scrolled": false
   },
   "outputs": [],
   "source": [
    "plot_3(All_data[i],i)"
   ]
  },
  {
   "cell_type": "code",
   "execution_count": null,
   "id": "35e7933b",
   "metadata": {
    "scrolled": false
   },
   "outputs": [],
   "source": [
    "plot_4(All_data[i]['2012-01-01':'2012-03-30'],i,3)"
   ]
  },
  {
   "cell_type": "code",
   "execution_count": null,
   "id": "03af4d17",
   "metadata": {
    "scrolled": false
   },
   "outputs": [],
   "source": [
    "plot_5(All_data[i]['2012-01-01':'2012-03-30'],i,3)"
   ]
  },
  {
   "cell_type": "markdown",
   "id": "474cfde9",
   "metadata": {},
   "source": [
    "# ========================================"
   ]
  },
  {
   "cell_type": "markdown",
   "id": "e521bb35",
   "metadata": {},
   "source": [
    "#### Third customer:"
   ]
  },
  {
   "cell_type": "code",
   "execution_count": null,
   "id": "d8d9977f",
   "metadata": {
    "scrolled": false
   },
   "outputs": [],
   "source": [
    "\n",
    "i = selected_customer_id[2]\n",
    "print(\"\\n\\n Identifying the Anomalies for Customer ==> \",i)\n",
    "    \n",
    "print(\"\\n\\n Step-1: Fit FB-prophet model with best parameters\")\n",
    "temp_data= All_data.xs('GC', level='Features', axis=1)[i].reset_index()\n",
    "temp_data.columns=['ds','y']\n",
    "\n",
    "print(\"\\n Plot the FB-prophet model for Customer ==>\",i)\n",
    "pred[i] = fit_predict_model(temp_data,best_param[i])\n",
    "\n",
    "print(\"\\n\\n Step-2 : Detect the anamalies for Customer ==>\",i)\n",
    "pred[i] = detect_anomalies(pred[i])\n",
    "print(\"\\n Plot the anamalies for Customer ==>\",i)\n",
    "plot_anomalies(pred[i])\n",
    "\n",
    "print(\"Customer\",i,\" values counts: \\n\",pred[i]['anomaly'].value_counts())\n",
    "print(\"\\n\\n Step-3: Assign the Anomalies to the Customer\",i)\n",
    "All_data[i,'Anomaly'] = pred[i]['anomaly'][All_data[i].index==pred[i]['ds']].values.ravel()\n",
    "\n",
    "print(\"\\n Customer \",i,\"Is Done!\" )\n",
    "print(\"==============================================================================\")"
   ]
  },
  {
   "cell_type": "code",
   "execution_count": null,
   "id": "cced106d",
   "metadata": {
    "scrolled": false
   },
   "outputs": [],
   "source": [
    "plot_1(All_data[i],i)"
   ]
  },
  {
   "cell_type": "code",
   "execution_count": null,
   "id": "74c1a70c",
   "metadata": {
    "scrolled": false
   },
   "outputs": [],
   "source": [
    "plot_2(All_data[i],i)"
   ]
  },
  {
   "cell_type": "code",
   "execution_count": null,
   "id": "bdc1cd9c",
   "metadata": {
    "scrolled": false
   },
   "outputs": [],
   "source": [
    "plot_3(All_data[i],i)"
   ]
  },
  {
   "cell_type": "code",
   "execution_count": null,
   "id": "705c3270",
   "metadata": {
    "scrolled": false
   },
   "outputs": [],
   "source": [
    "plot_4(All_data[i]['2012-01-01':'2012-03-30'],i,3)"
   ]
  },
  {
   "cell_type": "code",
   "execution_count": null,
   "id": "72f65a71",
   "metadata": {
    "scrolled": false
   },
   "outputs": [],
   "source": [
    "plot_5(All_data[i]['2012-01-01':'2012-03-30'],i,3)"
   ]
  },
  {
   "cell_type": "markdown",
   "id": "5a89f133",
   "metadata": {},
   "source": [
    "# ========================================"
   ]
  },
  {
   "cell_type": "markdown",
   "id": "329ee71c",
   "metadata": {},
   "source": [
    "#### Forth customer:"
   ]
  },
  {
   "cell_type": "code",
   "execution_count": null,
   "id": "94aa854a",
   "metadata": {
    "scrolled": true
   },
   "outputs": [],
   "source": [
    "\n",
    "i = selected_customer_id[3]\n",
    "print(\"\\n\\n Identifying the Anomalies for Customer ==> \",i)\n",
    "    \n",
    "print(\"\\n\\n Step-1: Fit FB-prophet model with best parameters\")\n",
    "temp_data= All_data.xs('GC', level='Features', axis=1)[i].reset_index()\n",
    "temp_data.columns=['ds','y']\n",
    "\n",
    "print(\"\\n Plot the FB-prophet model for Customer ==>\",i)\n",
    "pred[i] = fit_predict_model(temp_data,best_param[i])\n",
    "\n",
    "print(\"\\n\\n Step-2 : Detect the anamalies for Customer ==>\",i)\n",
    "pred[i] = detect_anomalies(pred[i])\n",
    "print(\"\\n Plot the anamalies for Customer ==>\",i)\n",
    "plot_anomalies(pred[i])\n",
    "\n",
    "print(\"Customer\",i,\" values counts: \\n\",pred[i]['anomaly'].value_counts())\n",
    "print(\"\\n\\n Step-3: Assign the Anomalies to the Customer\",i)\n",
    "All_data[i,'Anomaly'] = pred[i]['anomaly'][All_data[i].index==pred[i]['ds']].values.ravel()\n",
    "\n",
    "print(\"\\n Customer \",i,\"Is Done!\" )\n",
    "print(\"==============================================================================\")"
   ]
  },
  {
   "cell_type": "code",
   "execution_count": null,
   "id": "b54daa48",
   "metadata": {
    "scrolled": false
   },
   "outputs": [],
   "source": [
    "plot_1(All_data[i],i)"
   ]
  },
  {
   "cell_type": "code",
   "execution_count": null,
   "id": "6327e672",
   "metadata": {
    "scrolled": false
   },
   "outputs": [],
   "source": [
    "plot_2(All_data[i],i)"
   ]
  },
  {
   "cell_type": "code",
   "execution_count": null,
   "id": "12d2efed",
   "metadata": {
    "scrolled": false
   },
   "outputs": [],
   "source": [
    "plot_3(All_data[i],i)"
   ]
  },
  {
   "cell_type": "code",
   "execution_count": null,
   "id": "bebcf43a",
   "metadata": {
    "scrolled": false
   },
   "outputs": [],
   "source": [
    "plot_4(All_data[i]['2012-01-01':'2012-03-30'],i,3)"
   ]
  },
  {
   "cell_type": "code",
   "execution_count": null,
   "id": "23501358",
   "metadata": {
    "scrolled": false
   },
   "outputs": [],
   "source": [
    "plot_5(All_data[i]['2012-01-01':'2012-03-30'],i,3)"
   ]
  },
  {
   "cell_type": "markdown",
   "id": "6d98f048",
   "metadata": {},
   "source": [
    "# ===================================="
   ]
  },
  {
   "cell_type": "markdown",
   "id": "15374a1a",
   "metadata": {},
   "source": [
    "#### Fifth customer:"
   ]
  },
  {
   "cell_type": "code",
   "execution_count": null,
   "id": "58bb452a",
   "metadata": {
    "scrolled": true
   },
   "outputs": [],
   "source": [
    "\n",
    "i = selected_customer_id[4]\n",
    "print(\"\\n\\n Identifying the Anomalies for Customer ==> \",i)\n",
    "    \n",
    "print(\"\\n\\n Step-1: Fit FB-prophet model with best parameters\")\n",
    "temp_data= All_data.xs('GC', level='Features', axis=1)[i].reset_index()\n",
    "temp_data.columns=['ds','y']\n",
    "\n",
    "print(\"\\n Plot the FB-prophet model for Customer ==>\",i)\n",
    "pred[i] = fit_predict_model(temp_data,best_param[i])\n",
    "\n",
    "print(\"\\n\\n Step-2 : Detect the anamalies for Customer ==>\",i)\n",
    "pred[i] = detect_anomalies(pred[i])\n",
    "print(\"\\n Plot the anamalies for Customer ==>\",i)\n",
    "plot_anomalies(pred[i])\n",
    "\n",
    "print(\"Customer\",i,\" values counts: \\n\",pred[i]['anomaly'].value_counts())\n",
    "print(\"\\n\\n Step-3: Assign the Anomalies to the Customer\",i)\n",
    "All_data[i,'Anomaly'] = pred[i]['anomaly'][All_data[i].index==pred[i]['ds']].values.ravel()\n",
    "\n",
    "print(\"\\n Customer \",i,\"Is Done!\" )\n",
    "print(\"==============================================================================\")"
   ]
  },
  {
   "cell_type": "code",
   "execution_count": null,
   "id": "7bf969cb",
   "metadata": {
    "scrolled": false
   },
   "outputs": [],
   "source": [
    "plot_1(All_data[i],i)"
   ]
  },
  {
   "cell_type": "code",
   "execution_count": null,
   "id": "5a166e34",
   "metadata": {
    "scrolled": false
   },
   "outputs": [],
   "source": [
    "plot_2(All_data[i],i)"
   ]
  },
  {
   "cell_type": "code",
   "execution_count": null,
   "id": "33870ca5",
   "metadata": {
    "scrolled": false
   },
   "outputs": [],
   "source": [
    "plot_3(All_data[i],i)"
   ]
  },
  {
   "cell_type": "code",
   "execution_count": null,
   "id": "82eb2152",
   "metadata": {
    "scrolled": false
   },
   "outputs": [],
   "source": [
    "plot_4(All_data[i]['2012-01-01':'2012-03-30'],i,3)"
   ]
  },
  {
   "cell_type": "code",
   "execution_count": null,
   "id": "b8832be9",
   "metadata": {
    "scrolled": false
   },
   "outputs": [],
   "source": [
    "plot_5(All_data[i]['2012-01-01':'2012-03-30'],i,3)"
   ]
  },
  {
   "cell_type": "markdown",
   "id": "18e505b3",
   "metadata": {},
   "source": [
    "# ======================================"
   ]
  },
  {
   "cell_type": "markdown",
   "id": "eb82bafe",
   "metadata": {},
   "source": [
    "#### Sixth customer:"
   ]
  },
  {
   "cell_type": "code",
   "execution_count": null,
   "id": "0566bcf8",
   "metadata": {
    "scrolled": false
   },
   "outputs": [],
   "source": [
    "\n",
    "i = selected_customer_id[5]\n",
    "print(\"\\n\\n Identifying the Anomalies for Customer ==> \",i)\n",
    "    \n",
    "print(\"\\n\\n Step-1: Fit FB-prophet model with best parameters\")\n",
    "temp_data= All_data.xs('GC', level='Features', axis=1)[i].reset_index()\n",
    "temp_data.columns=['ds','y']\n",
    "\n",
    "print(\"\\n Plot the FB-prophet model for Customer ==>\",i)\n",
    "pred[i] = fit_predict_model(temp_data,best_param[i])\n",
    "\n",
    "print(\"\\n\\n Step-2 : Detect the anamalies for Customer ==>\",i)\n",
    "pred[i] = detect_anomalies(pred[i])\n",
    "print(\"\\n Plot the anamalies for Customer ==>\",i)\n",
    "plot_anomalies(pred[i])\n",
    "\n",
    "print(\"Customer\",i,\" values counts: \\n\",pred[i]['anomaly'].value_counts())\n",
    "print(\"\\n\\n Step-3: Assign the Anomalies to the Customer\",i)\n",
    "All_data[i,'Anomaly'] = pred[i]['anomaly'][All_data[i].index==pred[i]['ds']].values.ravel()\n",
    "\n",
    "print(\"\\n Customer \",i,\"Is Done!\" )\n",
    "print(\"==============================================================================\")"
   ]
  },
  {
   "cell_type": "code",
   "execution_count": null,
   "id": "1b92946d",
   "metadata": {
    "scrolled": false
   },
   "outputs": [],
   "source": [
    "plot_1(All_data[i],i)"
   ]
  },
  {
   "cell_type": "code",
   "execution_count": null,
   "id": "3b1d40b8",
   "metadata": {
    "scrolled": false
   },
   "outputs": [],
   "source": [
    "plot_2(All_data[i],i)"
   ]
  },
  {
   "cell_type": "code",
   "execution_count": null,
   "id": "f6898597",
   "metadata": {
    "scrolled": false
   },
   "outputs": [],
   "source": [
    "plot_3(All_data[i],i)"
   ]
  },
  {
   "cell_type": "code",
   "execution_count": null,
   "id": "936fe7f5",
   "metadata": {
    "scrolled": false
   },
   "outputs": [],
   "source": [
    "plot_4(All_data[i]['2012-01-01':'2012-03-30'],i,3)"
   ]
  },
  {
   "cell_type": "code",
   "execution_count": null,
   "id": "ad71077f",
   "metadata": {
    "scrolled": false
   },
   "outputs": [],
   "source": [
    "plot_5(All_data[i]['2012-01-01':'2012-03-30'],i,3)"
   ]
  },
  {
   "cell_type": "markdown",
   "id": "01828b27",
   "metadata": {},
   "source": [
    "# =================================="
   ]
  },
  {
   "cell_type": "markdown",
   "id": "48f5f1bf",
   "metadata": {},
   "source": [
    "#### Seventh customer:"
   ]
  },
  {
   "cell_type": "code",
   "execution_count": null,
   "id": "0f0f1814",
   "metadata": {
    "scrolled": true
   },
   "outputs": [],
   "source": [
    "\n",
    "i = selected_customer_id[6]\n",
    "print(\"\\n\\n Identifying the Anomalies for Customer ==> \",i)\n",
    "    \n",
    "print(\"\\n\\n Step-1: Fit FB-prophet model with best parameters\")\n",
    "temp_data= All_data.xs('GC', level='Features', axis=1)[i].reset_index()\n",
    "temp_data.columns=['ds','y']\n",
    "\n",
    "print(\"\\n Plot the FB-prophet model for Customer ==>\",i)\n",
    "pred[i] = fit_predict_model(temp_data,best_param[i])\n",
    "\n",
    "print(\"\\n\\n Step-2 : Detect the anamalies for Customer ==>\",i)\n",
    "pred[i] = detect_anomalies(pred[i])\n",
    "print(\"\\n Plot the anamalies for Customer ==>\",i)\n",
    "plot_anomalies(pred[i])\n",
    "\n",
    "print(\"Customer\",i,\" values counts: \\n\",pred[i]['anomaly'].value_counts())\n",
    "print(\"\\n\\n Step-3: Assign the Anomalies to the Customer\",i)\n",
    "All_data[i,'Anomaly'] = pred[i]['anomaly'][All_data[i].index==pred[i]['ds']].values.ravel()\n",
    "\n",
    "print(\"\\n Customer \",i,\"Is Done!\" )\n",
    "print(\"==============================================================================\")"
   ]
  },
  {
   "cell_type": "code",
   "execution_count": null,
   "id": "76babee7",
   "metadata": {
    "scrolled": false
   },
   "outputs": [],
   "source": [
    "plot_1(All_data[i],i)"
   ]
  },
  {
   "cell_type": "code",
   "execution_count": null,
   "id": "4e4c1552",
   "metadata": {
    "scrolled": false
   },
   "outputs": [],
   "source": [
    "plot_2(All_data[i],i)"
   ]
  },
  {
   "cell_type": "code",
   "execution_count": null,
   "id": "639c8591",
   "metadata": {
    "scrolled": false
   },
   "outputs": [],
   "source": [
    "plot_3(All_data[i],i)"
   ]
  },
  {
   "cell_type": "code",
   "execution_count": null,
   "id": "a8d493a2",
   "metadata": {
    "scrolled": false
   },
   "outputs": [],
   "source": [
    "plot_4(All_data[i]['2012-01-01':'2012-03-30'],i,3)"
   ]
  },
  {
   "cell_type": "code",
   "execution_count": null,
   "id": "7cdeb87d",
   "metadata": {
    "scrolled": false
   },
   "outputs": [],
   "source": [
    "plot_5(All_data[i]['2012-01-01':'2012-03-30'],i,3)"
   ]
  },
  {
   "cell_type": "markdown",
   "id": "aa66c5d0",
   "metadata": {},
   "source": [
    "# ====================================="
   ]
  },
  {
   "cell_type": "markdown",
   "id": "d26c6c82",
   "metadata": {},
   "source": [
    "#### Eighth customer:"
   ]
  },
  {
   "cell_type": "code",
   "execution_count": null,
   "id": "40d61f93",
   "metadata": {
    "scrolled": true
   },
   "outputs": [],
   "source": [
    "\n",
    "i = selected_customer_id[7]\n",
    "print(\"\\n\\n Identifying the Anomalies for Customer ==> \",i)\n",
    "    \n",
    "print(\"\\n\\n Step-1: Fit FB-prophet model with best parameters\")\n",
    "temp_data= All_data.xs('GC', level='Features', axis=1)[i].reset_index()\n",
    "temp_data.columns=['ds','y']\n",
    "\n",
    "print(\"\\n Plot the FB-prophet model for Customer ==>\",i)\n",
    "pred[i] = fit_predict_model(temp_data,best_param[i])\n",
    "\n",
    "print(\"\\n\\n Step-2 : Detect the anamalies for Customer ==>\",i)\n",
    "pred[i] = detect_anomalies(pred[i])\n",
    "print(\"\\n Plot the anamalies for Customer ==>\",i)\n",
    "plot_anomalies(pred[i])\n",
    "\n",
    "print(\"Customer\",i,\" values counts: \\n\",pred[i]['anomaly'].value_counts())\n",
    "print(\"\\n\\n Step-3: Assign the Anomalies to the Customer\",i)\n",
    "All_data[i,'Anomaly'] = pred[i]['anomaly'][All_data[i].index==pred[i]['ds']].values.ravel()\n",
    "\n",
    "print(\"\\n Customer \",i,\"Is Done!\" )\n",
    "print(\"==============================================================================\")"
   ]
  },
  {
   "cell_type": "code",
   "execution_count": null,
   "id": "2c98ef74",
   "metadata": {
    "scrolled": false
   },
   "outputs": [],
   "source": [
    "plot_1(All_data[i],i)"
   ]
  },
  {
   "cell_type": "code",
   "execution_count": null,
   "id": "517062fb",
   "metadata": {
    "scrolled": false
   },
   "outputs": [],
   "source": [
    "plot_2(All_data[i],i)"
   ]
  },
  {
   "cell_type": "code",
   "execution_count": null,
   "id": "163b8f53",
   "metadata": {
    "scrolled": false
   },
   "outputs": [],
   "source": [
    "plot_3(All_data[i],i)"
   ]
  },
  {
   "cell_type": "code",
   "execution_count": null,
   "id": "1f9039cd",
   "metadata": {
    "scrolled": false
   },
   "outputs": [],
   "source": [
    "plot_4(All_data[i]['2012-01-01':'2012-03-30'],i,3)"
   ]
  },
  {
   "cell_type": "code",
   "execution_count": null,
   "id": "3dec1d71",
   "metadata": {
    "scrolled": false
   },
   "outputs": [],
   "source": [
    "plot_5(All_data[i]['2012-01-01':'2012-03-30'],i,3)"
   ]
  },
  {
   "cell_type": "markdown",
   "id": "0216cad3",
   "metadata": {},
   "source": [
    "# ================================="
   ]
  },
  {
   "cell_type": "markdown",
   "id": "18369869",
   "metadata": {},
   "source": [
    "#### Ninth customer:"
   ]
  },
  {
   "cell_type": "code",
   "execution_count": null,
   "id": "e649a3ad",
   "metadata": {
    "scrolled": true
   },
   "outputs": [],
   "source": [
    "\n",
    "i = selected_customer_id[8]\n",
    "print(\"\\n\\n Identifying the Anomalies for Customer ==> \",i)\n",
    "    \n",
    "print(\"\\n\\n Step-1: Fit FB-prophet model with best parameters\")\n",
    "temp_data= All_data.xs('GC', level='Features', axis=1)[i].reset_index()\n",
    "temp_data.columns=['ds','y']\n",
    "\n",
    "print(\"\\n Plot the FB-prophet model for Customer ==>\",i)\n",
    "pred[i] = fit_predict_model(temp_data,best_param[i])\n",
    "\n",
    "print(\"\\n\\n Step-2 : Detect the anamalies for Customer ==>\",i)\n",
    "pred[i] = detect_anomalies(pred[i])\n",
    "print(\"\\n Plot the anamalies for Customer ==>\",i)\n",
    "plot_anomalies(pred[i])\n",
    "\n",
    "print(\"Customer\",i,\" values counts: \\n\",pred[i]['anomaly'].value_counts())\n",
    "print(\"\\n\\n Step-3: Assign the Anomalies to the Customer\",i)\n",
    "All_data[i,'Anomaly'] = pred[i]['anomaly'][All_data[i].index==pred[i]['ds']].values.ravel()\n",
    "\n",
    "print(\"\\n Customer \",i,\"Is Done!\" )\n",
    "print(\"==============================================================================\")"
   ]
  },
  {
   "cell_type": "code",
   "execution_count": null,
   "id": "2d80d83e",
   "metadata": {
    "scrolled": false
   },
   "outputs": [],
   "source": [
    "plot_1(All_data[i],i)"
   ]
  },
  {
   "cell_type": "code",
   "execution_count": null,
   "id": "6624363f",
   "metadata": {
    "scrolled": false
   },
   "outputs": [],
   "source": [
    "plot_2(All_data[i],i)"
   ]
  },
  {
   "cell_type": "code",
   "execution_count": null,
   "id": "91dc8475",
   "metadata": {
    "scrolled": false
   },
   "outputs": [],
   "source": [
    "plot_3(All_data[i],i)"
   ]
  },
  {
   "cell_type": "code",
   "execution_count": null,
   "id": "c1c77f0a",
   "metadata": {
    "scrolled": false
   },
   "outputs": [],
   "source": [
    "plot_4(All_data[i]['2012-01-01':'2012-03-30'],i,3)"
   ]
  },
  {
   "cell_type": "code",
   "execution_count": null,
   "id": "457ee72e",
   "metadata": {
    "scrolled": false
   },
   "outputs": [],
   "source": [
    "plot_5(All_data[i]['2012-01-01':'2012-03-30'],i,3)"
   ]
  },
  {
   "cell_type": "markdown",
   "id": "a5ecde9f",
   "metadata": {},
   "source": [
    "# ======================================="
   ]
  },
  {
   "cell_type": "markdown",
   "id": "8ef6d870",
   "metadata": {},
   "source": [
    "#### Tenth customer:"
   ]
  },
  {
   "cell_type": "code",
   "execution_count": null,
   "id": "3fcd73d3",
   "metadata": {
    "scrolled": false
   },
   "outputs": [],
   "source": [
    "\n",
    "i = selected_customer_id[9]\n",
    "print(\"\\n\\n Identifying the Anomalies for Customer ==> \",i)\n",
    "    \n",
    "print(\"\\n\\n Step-1: Fit FB-prophet model with best parameters\")\n",
    "temp_data= All_data.xs('GC', level='Features', axis=1)[i].reset_index()\n",
    "temp_data.columns=['ds','y']\n",
    "\n",
    "print(\"\\n Plot the FB-prophet model for Customer ==>\",i)\n",
    "pred[i] = fit_predict_model(temp_data,best_param[i])\n",
    "\n",
    "print(\"\\n\\n Step-2 : Detect the anamalies for Customer ==>\",i)\n",
    "pred[i] = detect_anomalies(pred[i])\n",
    "print(\"\\n Plot the anamalies for Customer ==>\",i)\n",
    "plot_anomalies(pred[i])\n",
    "\n",
    "print(\"Customer\",i,\" values counts: \\n\",pred[i]['anomaly'].value_counts())\n",
    "print(\"\\n\\n Step-3: Assign the Anomalies to the Customer\",i)\n",
    "All_data[i,'Anomaly'] = pred[i]['anomaly'][All_data[i].index==pred[i]['ds']].values.ravel()\n",
    "\n",
    "print(\"\\n Customer \",i,\"Is Done!\" )\n",
    "print(\"==============================================================================\")"
   ]
  },
  {
   "cell_type": "code",
   "execution_count": null,
   "id": "88f94615",
   "metadata": {
    "scrolled": false
   },
   "outputs": [],
   "source": [
    "plot_1(All_data[i],i)"
   ]
  },
  {
   "cell_type": "code",
   "execution_count": null,
   "id": "514ca523",
   "metadata": {
    "scrolled": false
   },
   "outputs": [],
   "source": [
    "plot_2(All_data[i],i)"
   ]
  },
  {
   "cell_type": "code",
   "execution_count": null,
   "id": "ca0987ef",
   "metadata": {
    "scrolled": false
   },
   "outputs": [],
   "source": [
    "plot_3(All_data[i],i)"
   ]
  },
  {
   "cell_type": "code",
   "execution_count": null,
   "id": "9bdc9492",
   "metadata": {
    "scrolled": false
   },
   "outputs": [],
   "source": [
    "plot_4(All_data[i]['2012-01-01':'2012-03-30'],i,3)"
   ]
  },
  {
   "cell_type": "code",
   "execution_count": null,
   "id": "72729383",
   "metadata": {
    "scrolled": false
   },
   "outputs": [],
   "source": [
    "plot_5(All_data[i]['2012-01-01':'2012-03-30'],i,3)"
   ]
  },
  {
   "cell_type": "markdown",
   "id": "064e39a2",
   "metadata": {},
   "source": [
    "# ======================================="
   ]
  },
  {
   "cell_type": "markdown",
   "id": "90ff5009",
   "metadata": {},
   "source": [
    "### Save the data"
   ]
  },
  {
   "cell_type": "code",
   "execution_count": null,
   "id": "86f9ef3e",
   "metadata": {
    "scrolled": true
   },
   "outputs": [],
   "source": [
    "costumer_ids = sum([ [i for j in range(All_data[i].shape[0])]for i in selected_customer_id ], [])\n",
    "final_data = pd.DataFrame()\n",
    "final_data['costumer'] = costumer_ids"
   ]
  },
  {
   "cell_type": "code",
   "execution_count": null,
   "id": "48d8e634",
   "metadata": {
    "scrolled": true
   },
   "outputs": [],
   "source": [
    "frames = [ All_data[i] for i in selected_customer_id ]\n",
    "data= pd.concat(frames,axis=0, ignore_index=True)"
   ]
  },
  {
   "cell_type": "code",
   "execution_count": null,
   "id": "d1722a44",
   "metadata": {
    "scrolled": true
   },
   "outputs": [],
   "source": [
    "final_data= pd.concat([final_data,data],axis=1)"
   ]
  },
  {
   "cell_type": "code",
   "execution_count": null,
   "id": "b8a656f5",
   "metadata": {
    "scrolled": true
   },
   "outputs": [],
   "source": [
    "final_data.tail()"
   ]
  },
  {
   "cell_type": "code",
   "execution_count": null,
   "id": "686841d8",
   "metadata": {
    "scrolled": true
   },
   "outputs": [],
   "source": [
    "final_data.to_csv('solar_final_data.csv')"
   ]
  },
  {
   "cell_type": "markdown",
   "id": "84863e08",
   "metadata": {},
   "source": [
    "# ======================================="
   ]
  }
 ],
 "metadata": {
  "kernelspec": {
   "display_name": "py39",
   "language": "python",
   "name": "py39"
  },
  "language_info": {
   "codemirror_mode": {
    "name": "ipython",
    "version": 3
   },
   "file_extension": ".py",
   "mimetype": "text/x-python",
   "name": "python",
   "nbconvert_exporter": "python",
   "pygments_lexer": "ipython3",
   "version": "3.9.6"
  }
 },
 "nbformat": 4,
 "nbformat_minor": 5
}
